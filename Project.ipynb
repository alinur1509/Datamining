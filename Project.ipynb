{
 "cells": [
  {
   "cell_type": "code",
   "execution_count": 1,
   "id": "plastic-subscription",
   "metadata": {
    "_cell_guid": "b1076dfc-b9ad-4769-8c92-a6c4dae69d19",
    "_uuid": "8f2839f25d086af736a60e9eeb907d3b93b6e0e5",
    "execution": {
     "iopub.execute_input": "2021-05-05T13:01:32.255852Z",
     "iopub.status.busy": "2021-05-05T13:01:32.253835Z",
     "iopub.status.idle": "2021-05-05T13:01:32.268533Z",
     "shell.execute_reply": "2021-05-05T13:01:32.267890Z"
    },
    "papermill": {
     "duration": 0.063104,
     "end_time": "2021-05-05T13:01:32.268697",
     "exception": false,
     "start_time": "2021-05-05T13:01:32.205593",
     "status": "completed"
    },
    "tags": []
   },
   "outputs": [
    {
     "name": "stdout",
     "output_type": "stream",
     "text": [
      "/kaggle/input/fake-news/submit.csv\n",
      "/kaggle/input/fake-news/train.csv\n",
      "/kaggle/input/fake-news/test.csv\n"
     ]
    }
   ],
   "source": [
    "\n",
    "\n",
    "import numpy as np\n",
    "import pandas as pd \n",
    "\n",
    "import os\n",
    "for dirname, _, filenames in os.walk('/kaggle/input'):\n",
    "    for filename in filenames:\n",
    "        print(os.path.join(dirname, filename))\n"
   ]
  },
  {
   "cell_type": "markdown",
   "id": "sixth-pakistan",
   "metadata": {
    "papermill": {
     "duration": 0.036646,
     "end_time": "2021-05-05T13:01:32.342595",
     "exception": false,
     "start_time": "2021-05-05T13:01:32.305949",
     "status": "completed"
    },
    "tags": []
   },
   "source": [
    "<center>\n",
    "<span style=\"font-family:luxury; color:Black; font-size:45px;\"> FAKE NEWS CLASSIFIER </span>\n",
    "</center>   \n",
    "<center>\n",
    "<span style=\"font-family:luxury; color:Black\t; font-size:30px;\"> LSTM Model</span>\n",
    "</center> \n",
    "<center>\n",
    "<span style=\"font-family:luxury; color:Black\t; font-size:20px;\"> Yelemessov Alinur and Nuran Zhangazy</span>\n",
    "</center> "
   ]
  },
  {
   "cell_type": "markdown",
   "id": "blessed-exemption",
   "metadata": {
    "papermill": {
     "duration": 0.036302,
     "end_time": "2021-05-05T13:01:32.415515",
     "exception": false,
     "start_time": "2021-05-05T13:01:32.379213",
     "status": "completed"
    },
    "tags": []
   },
   "source": [
    "<span style=\"font-family:luxury; color:Black; font-size:30px;\"> Reading train data</span>"
   ]
  },
  {
   "cell_type": "code",
   "execution_count": 2,
   "id": "modified-prague",
   "metadata": {
    "execution": {
     "iopub.execute_input": "2021-05-05T13:01:32.495906Z",
     "iopub.status.busy": "2021-05-05T13:01:32.494689Z",
     "iopub.status.idle": "2021-05-05T13:01:32.498411Z",
     "shell.execute_reply": "2021-05-05T13:01:32.497830Z"
    },
    "papermill": {
     "duration": 0.046159,
     "end_time": "2021-05-05T13:01:32.498549",
     "exception": false,
     "start_time": "2021-05-05T13:01:32.452390",
     "status": "completed"
    },
    "tags": []
   },
   "outputs": [],
   "source": [
    "import warnings\n",
    "warnings.filterwarnings(\"ignore\")"
   ]
  },
  {
   "cell_type": "code",
   "execution_count": 3,
   "id": "delayed-jason",
   "metadata": {
    "execution": {
     "iopub.execute_input": "2021-05-05T13:01:32.582568Z",
     "iopub.status.busy": "2021-05-05T13:01:32.581892Z",
     "iopub.status.idle": "2021-05-05T13:01:34.986796Z",
     "shell.execute_reply": "2021-05-05T13:01:34.987308Z"
    },
    "papermill": {
     "duration": 2.45026,
     "end_time": "2021-05-05T13:01:34.987477",
     "exception": false,
     "start_time": "2021-05-05T13:01:32.537217",
     "status": "completed"
    },
    "tags": []
   },
   "outputs": [
    {
     "name": "stdout",
     "output_type": "stream",
     "text": [
      "data shape : (20800, 5)\n"
     ]
    },
    {
     "data": {
      "text/html": [
       "<div>\n",
       "<style scoped>\n",
       "    .dataframe tbody tr th:only-of-type {\n",
       "        vertical-align: middle;\n",
       "    }\n",
       "\n",
       "    .dataframe tbody tr th {\n",
       "        vertical-align: top;\n",
       "    }\n",
       "\n",
       "    .dataframe thead th {\n",
       "        text-align: right;\n",
       "    }\n",
       "</style>\n",
       "<table border=\"1\" class=\"dataframe\">\n",
       "  <thead>\n",
       "    <tr style=\"text-align: right;\">\n",
       "      <th></th>\n",
       "      <th>id</th>\n",
       "      <th>title</th>\n",
       "      <th>author</th>\n",
       "      <th>text</th>\n",
       "      <th>label</th>\n",
       "    </tr>\n",
       "  </thead>\n",
       "  <tbody>\n",
       "    <tr>\n",
       "      <th>0</th>\n",
       "      <td>0</td>\n",
       "      <td>House Dem Aide: We Didn’t Even See Comey’s Let...</td>\n",
       "      <td>Darrell Lucus</td>\n",
       "      <td>House Dem Aide: We Didn’t Even See Comey’s Let...</td>\n",
       "      <td>1</td>\n",
       "    </tr>\n",
       "    <tr>\n",
       "      <th>1</th>\n",
       "      <td>1</td>\n",
       "      <td>FLYNN: Hillary Clinton, Big Woman on Campus - ...</td>\n",
       "      <td>Daniel J. Flynn</td>\n",
       "      <td>Ever get the feeling your life circles the rou...</td>\n",
       "      <td>0</td>\n",
       "    </tr>\n",
       "    <tr>\n",
       "      <th>2</th>\n",
       "      <td>2</td>\n",
       "      <td>Why the Truth Might Get You Fired</td>\n",
       "      <td>Consortiumnews.com</td>\n",
       "      <td>Why the Truth Might Get You Fired October 29, ...</td>\n",
       "      <td>1</td>\n",
       "    </tr>\n",
       "    <tr>\n",
       "      <th>3</th>\n",
       "      <td>3</td>\n",
       "      <td>15 Civilians Killed In Single US Airstrike Hav...</td>\n",
       "      <td>Jessica Purkiss</td>\n",
       "      <td>Videos 15 Civilians Killed In Single US Airstr...</td>\n",
       "      <td>1</td>\n",
       "    </tr>\n",
       "    <tr>\n",
       "      <th>4</th>\n",
       "      <td>4</td>\n",
       "      <td>Iranian woman jailed for fictional unpublished...</td>\n",
       "      <td>Howard Portnoy</td>\n",
       "      <td>Print \\nAn Iranian woman has been sentenced to...</td>\n",
       "      <td>1</td>\n",
       "    </tr>\n",
       "  </tbody>\n",
       "</table>\n",
       "</div>"
      ],
      "text/plain": [
       "   id                                              title              author  \\\n",
       "0   0  House Dem Aide: We Didn’t Even See Comey’s Let...       Darrell Lucus   \n",
       "1   1  FLYNN: Hillary Clinton, Big Woman on Campus - ...     Daniel J. Flynn   \n",
       "2   2                  Why the Truth Might Get You Fired  Consortiumnews.com   \n",
       "3   3  15 Civilians Killed In Single US Airstrike Hav...     Jessica Purkiss   \n",
       "4   4  Iranian woman jailed for fictional unpublished...      Howard Portnoy   \n",
       "\n",
       "                                                text  label  \n",
       "0  House Dem Aide: We Didn’t Even See Comey’s Let...      1  \n",
       "1  Ever get the feeling your life circles the rou...      0  \n",
       "2  Why the Truth Might Get You Fired October 29, ...      1  \n",
       "3  Videos 15 Civilians Killed In Single US Airstr...      1  \n",
       "4  Print \\nAn Iranian woman has been sentenced to...      1  "
      ]
     },
     "execution_count": 3,
     "metadata": {},
     "output_type": "execute_result"
    }
   ],
   "source": [
    "import pandas as pd\n",
    "train= pd.read_csv(\"/kaggle/input/fake-news/train.csv\")\n",
    "print(\"data shape :\", train.shape)\n",
    "train.head()"
   ]
  },
  {
   "cell_type": "markdown",
   "id": "efficient-solid",
   "metadata": {
    "papermill": {
     "duration": 0.039285,
     "end_time": "2021-05-05T13:01:35.066575",
     "exception": false,
     "start_time": "2021-05-05T13:01:35.027290",
     "status": "completed"
    },
    "tags": []
   },
   "source": [
    "<span style=\"font-family:luxury; color:Black; font-size:30px;\"> Reading test data</span>"
   ]
  },
  {
   "cell_type": "code",
   "execution_count": 4,
   "id": "fitting-eclipse",
   "metadata": {
    "execution": {
     "iopub.execute_input": "2021-05-05T13:01:35.148991Z",
     "iopub.status.busy": "2021-05-05T13:01:35.148240Z",
     "iopub.status.idle": "2021-05-05T13:01:35.688920Z",
     "shell.execute_reply": "2021-05-05T13:01:35.688072Z"
    },
    "papermill": {
     "duration": 0.584647,
     "end_time": "2021-05-05T13:01:35.689085",
     "exception": false,
     "start_time": "2021-05-05T13:01:35.104438",
     "status": "completed"
    },
    "tags": []
   },
   "outputs": [
    {
     "name": "stdout",
     "output_type": "stream",
     "text": [
      "data shape : (5200, 4)\n"
     ]
    },
    {
     "data": {
      "text/html": [
       "<div>\n",
       "<style scoped>\n",
       "    .dataframe tbody tr th:only-of-type {\n",
       "        vertical-align: middle;\n",
       "    }\n",
       "\n",
       "    .dataframe tbody tr th {\n",
       "        vertical-align: top;\n",
       "    }\n",
       "\n",
       "    .dataframe thead th {\n",
       "        text-align: right;\n",
       "    }\n",
       "</style>\n",
       "<table border=\"1\" class=\"dataframe\">\n",
       "  <thead>\n",
       "    <tr style=\"text-align: right;\">\n",
       "      <th></th>\n",
       "      <th>id</th>\n",
       "      <th>title</th>\n",
       "      <th>author</th>\n",
       "      <th>text</th>\n",
       "    </tr>\n",
       "  </thead>\n",
       "  <tbody>\n",
       "    <tr>\n",
       "      <th>0</th>\n",
       "      <td>20800</td>\n",
       "      <td>Specter of Trump Loosens Tongues, if Not Purse...</td>\n",
       "      <td>David Streitfeld</td>\n",
       "      <td>PALO ALTO, Calif.  —   After years of scorning...</td>\n",
       "    </tr>\n",
       "    <tr>\n",
       "      <th>1</th>\n",
       "      <td>20801</td>\n",
       "      <td>Russian warships ready to strike terrorists ne...</td>\n",
       "      <td>NaN</td>\n",
       "      <td>Russian warships ready to strike terrorists ne...</td>\n",
       "    </tr>\n",
       "    <tr>\n",
       "      <th>2</th>\n",
       "      <td>20802</td>\n",
       "      <td>#NoDAPL: Native American Leaders Vow to Stay A...</td>\n",
       "      <td>Common Dreams</td>\n",
       "      <td>Videos #NoDAPL: Native American Leaders Vow to...</td>\n",
       "    </tr>\n",
       "    <tr>\n",
       "      <th>3</th>\n",
       "      <td>20803</td>\n",
       "      <td>Tim Tebow Will Attempt Another Comeback, This ...</td>\n",
       "      <td>Daniel Victor</td>\n",
       "      <td>If at first you don’t succeed, try a different...</td>\n",
       "    </tr>\n",
       "    <tr>\n",
       "      <th>4</th>\n",
       "      <td>20804</td>\n",
       "      <td>Keiser Report: Meme Wars (E995)</td>\n",
       "      <td>Truth Broadcast Network</td>\n",
       "      <td>42 mins ago 1 Views 0 Comments 0 Likes 'For th...</td>\n",
       "    </tr>\n",
       "  </tbody>\n",
       "</table>\n",
       "</div>"
      ],
      "text/plain": [
       "      id                                              title  \\\n",
       "0  20800  Specter of Trump Loosens Tongues, if Not Purse...   \n",
       "1  20801  Russian warships ready to strike terrorists ne...   \n",
       "2  20802  #NoDAPL: Native American Leaders Vow to Stay A...   \n",
       "3  20803  Tim Tebow Will Attempt Another Comeback, This ...   \n",
       "4  20804                    Keiser Report: Meme Wars (E995)   \n",
       "\n",
       "                    author                                               text  \n",
       "0         David Streitfeld  PALO ALTO, Calif.  —   After years of scorning...  \n",
       "1                      NaN  Russian warships ready to strike terrorists ne...  \n",
       "2            Common Dreams  Videos #NoDAPL: Native American Leaders Vow to...  \n",
       "3            Daniel Victor  If at first you don’t succeed, try a different...  \n",
       "4  Truth Broadcast Network  42 mins ago 1 Views 0 Comments 0 Likes 'For th...  "
      ]
     },
     "execution_count": 4,
     "metadata": {},
     "output_type": "execute_result"
    }
   ],
   "source": [
    "test= pd.read_csv(\"/kaggle/input/fake-news/test.csv\")\n",
    "print(\"data shape :\", test.shape)\n",
    "test.head()"
   ]
  },
  {
   "cell_type": "markdown",
   "id": "completed-cooling",
   "metadata": {
    "papermill": {
     "duration": 0.040626,
     "end_time": "2021-05-05T13:01:35.852223",
     "exception": false,
     "start_time": "2021-05-05T13:01:35.811597",
     "status": "completed"
    },
    "tags": []
   },
   "source": [
    "<span style=\"font-family:luxury; color:Black; font-size:30px;\"> Combined data</span><br>\n",
    "<span style=\"color:Black; font-size:15px;\">\n",
    "    Concating both train and test dataset so that text preprocessing before giving it to model can be done simultaneously on both of them.\n",
    "</span>"
   ]
  },
  {
   "cell_type": "code",
   "execution_count": 5,
   "id": "fourth-basics",
   "metadata": {
    "execution": {
     "iopub.execute_input": "2021-05-05T13:01:35.945491Z",
     "iopub.status.busy": "2021-05-05T13:01:35.944264Z",
     "iopub.status.idle": "2021-05-05T13:01:35.970771Z",
     "shell.execute_reply": "2021-05-05T13:01:35.971367Z"
    },
    "papermill": {
     "duration": 0.079181,
     "end_time": "2021-05-05T13:01:35.971541",
     "exception": false,
     "start_time": "2021-05-05T13:01:35.892360",
     "status": "completed"
    },
    "tags": []
   },
   "outputs": [
    {
     "name": "stdout",
     "output_type": "stream",
     "text": [
      "combined data shape : (26000, 6)\n"
     ]
    },
    {
     "data": {
      "text/html": [
       "<div>\n",
       "<style scoped>\n",
       "    .dataframe tbody tr th:only-of-type {\n",
       "        vertical-align: middle;\n",
       "    }\n",
       "\n",
       "    .dataframe tbody tr th {\n",
       "        vertical-align: top;\n",
       "    }\n",
       "\n",
       "    .dataframe thead th {\n",
       "        text-align: right;\n",
       "    }\n",
       "</style>\n",
       "<table border=\"1\" class=\"dataframe\">\n",
       "  <thead>\n",
       "    <tr style=\"text-align: right;\">\n",
       "      <th></th>\n",
       "      <th>id</th>\n",
       "      <th>title</th>\n",
       "      <th>author</th>\n",
       "      <th>text</th>\n",
       "      <th>label</th>\n",
       "      <th>train/test</th>\n",
       "    </tr>\n",
       "  </thead>\n",
       "  <tbody>\n",
       "    <tr>\n",
       "      <th>0</th>\n",
       "      <td>0</td>\n",
       "      <td>House Dem Aide: We Didn’t Even See Comey’s Let...</td>\n",
       "      <td>Darrell Lucus</td>\n",
       "      <td>House Dem Aide: We Didn’t Even See Comey’s Let...</td>\n",
       "      <td>1.0</td>\n",
       "      <td>train</td>\n",
       "    </tr>\n",
       "    <tr>\n",
       "      <th>1</th>\n",
       "      <td>1</td>\n",
       "      <td>FLYNN: Hillary Clinton, Big Woman on Campus - ...</td>\n",
       "      <td>Daniel J. Flynn</td>\n",
       "      <td>Ever get the feeling your life circles the rou...</td>\n",
       "      <td>0.0</td>\n",
       "      <td>train</td>\n",
       "    </tr>\n",
       "    <tr>\n",
       "      <th>2</th>\n",
       "      <td>2</td>\n",
       "      <td>Why the Truth Might Get You Fired</td>\n",
       "      <td>Consortiumnews.com</td>\n",
       "      <td>Why the Truth Might Get You Fired October 29, ...</td>\n",
       "      <td>1.0</td>\n",
       "      <td>train</td>\n",
       "    </tr>\n",
       "    <tr>\n",
       "      <th>3</th>\n",
       "      <td>3</td>\n",
       "      <td>15 Civilians Killed In Single US Airstrike Hav...</td>\n",
       "      <td>Jessica Purkiss</td>\n",
       "      <td>Videos 15 Civilians Killed In Single US Airstr...</td>\n",
       "      <td>1.0</td>\n",
       "      <td>train</td>\n",
       "    </tr>\n",
       "    <tr>\n",
       "      <th>4</th>\n",
       "      <td>4</td>\n",
       "      <td>Iranian woman jailed for fictional unpublished...</td>\n",
       "      <td>Howard Portnoy</td>\n",
       "      <td>Print \\nAn Iranian woman has been sentenced to...</td>\n",
       "      <td>1.0</td>\n",
       "      <td>train</td>\n",
       "    </tr>\n",
       "  </tbody>\n",
       "</table>\n",
       "</div>"
      ],
      "text/plain": [
       "   id                                              title              author  \\\n",
       "0   0  House Dem Aide: We Didn’t Even See Comey’s Let...       Darrell Lucus   \n",
       "1   1  FLYNN: Hillary Clinton, Big Woman on Campus - ...     Daniel J. Flynn   \n",
       "2   2                  Why the Truth Might Get You Fired  Consortiumnews.com   \n",
       "3   3  15 Civilians Killed In Single US Airstrike Hav...     Jessica Purkiss   \n",
       "4   4  Iranian woman jailed for fictional unpublished...      Howard Portnoy   \n",
       "\n",
       "                                                text  label train/test  \n",
       "0  House Dem Aide: We Didn’t Even See Comey’s Let...    1.0      train  \n",
       "1  Ever get the feeling your life circles the rou...    0.0      train  \n",
       "2  Why the Truth Might Get You Fired October 29, ...    1.0      train  \n",
       "3  Videos 15 Civilians Killed In Single US Airstr...    1.0      train  \n",
       "4  Print \\nAn Iranian woman has been sentenced to...    1.0      train  "
      ]
     },
     "execution_count": 5,
     "metadata": {},
     "output_type": "execute_result"
    }
   ],
   "source": [
    "# creating an additional column to distinguish between the datasets after concating\n",
    "train[\"train/test\"]= \"train\"\n",
    "test[\"train/test\"]= \"test\"\n",
    "\n",
    "# concating\n",
    "combined_data= pd.concat([train, test], axis=0)\n",
    "print(\"combined data shape :\", combined_data.shape)\n",
    "combined_data.head()"
   ]
  },
  {
   "cell_type": "markdown",
   "id": "secure-parcel",
   "metadata": {
    "papermill": {
     "duration": 0.040804,
     "end_time": "2021-05-05T13:01:36.054072",
     "exception": false,
     "start_time": "2021-05-05T13:01:36.013268",
     "status": "completed"
    },
    "tags": []
   },
   "source": [
    "<span style=\"font-family:luxury; color:Black; font-size:30px;\"> Data Preprocessing</span><br>"
   ]
  },
  {
   "cell_type": "markdown",
   "id": "finite-associate",
   "metadata": {
    "papermill": {
     "duration": 0.041115,
     "end_time": "2021-05-05T13:01:36.137707",
     "exception": false,
     "start_time": "2021-05-05T13:01:36.096592",
     "status": "completed"
    },
    "tags": []
   },
   "source": [
    "<span style=\"color:Black; font-size:15px;\">\n",
    "    The \"text\" column is the column which contains the news, so we only need to preprocess this, we'll also take \"train/test\"\n",
    "column so that both the datasets can be distinguished later\n",
    "</span>"
   ]
  },
  {
   "cell_type": "code",
   "execution_count": 6,
   "id": "hired-directive",
   "metadata": {
    "execution": {
     "iopub.execute_input": "2021-05-05T13:01:36.227613Z",
     "iopub.status.busy": "2021-05-05T13:01:36.225191Z",
     "iopub.status.idle": "2021-05-05T13:01:36.241797Z",
     "shell.execute_reply": "2021-05-05T13:01:36.242322Z"
    },
    "papermill": {
     "duration": 0.064174,
     "end_time": "2021-05-05T13:01:36.242511",
     "exception": false,
     "start_time": "2021-05-05T13:01:36.178337",
     "status": "completed"
    },
    "tags": []
   },
   "outputs": [
    {
     "data": {
      "text/html": [
       "<div>\n",
       "<style scoped>\n",
       "    .dataframe tbody tr th:only-of-type {\n",
       "        vertical-align: middle;\n",
       "    }\n",
       "\n",
       "    .dataframe tbody tr th {\n",
       "        vertical-align: top;\n",
       "    }\n",
       "\n",
       "    .dataframe thead th {\n",
       "        text-align: right;\n",
       "    }\n",
       "</style>\n",
       "<table border=\"1\" class=\"dataframe\">\n",
       "  <thead>\n",
       "    <tr style=\"text-align: right;\">\n",
       "      <th></th>\n",
       "      <th>text</th>\n",
       "      <th>train/test</th>\n",
       "    </tr>\n",
       "  </thead>\n",
       "  <tbody>\n",
       "    <tr>\n",
       "      <th>0</th>\n",
       "      <td>House Dem Aide: We Didn’t Even See Comey’s Let...</td>\n",
       "      <td>train</td>\n",
       "    </tr>\n",
       "    <tr>\n",
       "      <th>1</th>\n",
       "      <td>Ever get the feeling your life circles the rou...</td>\n",
       "      <td>train</td>\n",
       "    </tr>\n",
       "    <tr>\n",
       "      <th>2</th>\n",
       "      <td>Why the Truth Might Get You Fired October 29, ...</td>\n",
       "      <td>train</td>\n",
       "    </tr>\n",
       "    <tr>\n",
       "      <th>3</th>\n",
       "      <td>Videos 15 Civilians Killed In Single US Airstr...</td>\n",
       "      <td>train</td>\n",
       "    </tr>\n",
       "    <tr>\n",
       "      <th>4</th>\n",
       "      <td>Print \\nAn Iranian woman has been sentenced to...</td>\n",
       "      <td>train</td>\n",
       "    </tr>\n",
       "  </tbody>\n",
       "</table>\n",
       "</div>"
      ],
      "text/plain": [
       "                                                text train/test\n",
       "0  House Dem Aide: We Didn’t Even See Comey’s Let...      train\n",
       "1  Ever get the feeling your life circles the rou...      train\n",
       "2  Why the Truth Might Get You Fired October 29, ...      train\n",
       "3  Videos 15 Civilians Killed In Single US Airstr...      train\n",
       "4  Print \\nAn Iranian woman has been sentenced to...      train"
      ]
     },
     "execution_count": 6,
     "metadata": {},
     "output_type": "execute_result"
    }
   ],
   "source": [
    "combined_data= combined_data.drop(columns=[\"id\",\"author\" , \"title\", \"label\"], axis=1)\n",
    "combined_data.head()"
   ]
  },
  {
   "cell_type": "markdown",
   "id": "linear-projection",
   "metadata": {
    "papermill": {
     "duration": 0.041881,
     "end_time": "2021-05-05T13:01:36.326211",
     "exception": false,
     "start_time": "2021-05-05T13:01:36.284330",
     "status": "completed"
    },
    "tags": []
   },
   "source": [
    "<span style=\"font-family:luxury; color:Black; font-size:25px;\"> Check Missing Values</span><br>"
   ]
  },
  {
   "cell_type": "code",
   "execution_count": 7,
   "id": "appreciated-instruction",
   "metadata": {
    "execution": {
     "iopub.execute_input": "2021-05-05T13:01:36.434095Z",
     "iopub.status.busy": "2021-05-05T13:01:36.433039Z",
     "iopub.status.idle": "2021-05-05T13:01:36.440254Z",
     "shell.execute_reply": "2021-05-05T13:01:36.440828Z"
    },
    "papermill": {
     "duration": 0.072536,
     "end_time": "2021-05-05T13:01:36.440998",
     "exception": false,
     "start_time": "2021-05-05T13:01:36.368462",
     "status": "completed"
    },
    "tags": []
   },
   "outputs": [
    {
     "data": {
      "text/plain": [
       "text          46\n",
       "train/test     0\n",
       "dtype: int64"
      ]
     },
     "execution_count": 7,
     "metadata": {},
     "output_type": "execute_result"
    }
   ],
   "source": [
    "combined_data.isnull().sum()"
   ]
  },
  {
   "cell_type": "code",
   "execution_count": 8,
   "id": "nearby-opinion",
   "metadata": {
    "execution": {
     "iopub.execute_input": "2021-05-05T13:01:36.539961Z",
     "iopub.status.busy": "2021-05-05T13:01:36.538018Z",
     "iopub.status.idle": "2021-05-05T13:01:36.542951Z",
     "shell.execute_reply": "2021-05-05T13:01:36.542462Z"
    },
    "papermill": {
     "duration": 0.057941,
     "end_time": "2021-05-05T13:01:36.543078",
     "exception": false,
     "start_time": "2021-05-05T13:01:36.485137",
     "status": "completed"
    },
    "tags": []
   },
   "outputs": [],
   "source": [
    "# replace missing values\n",
    "combined_data= combined_data.fillna(\" \")"
   ]
  },
  {
   "cell_type": "markdown",
   "id": "metric-yellow",
   "metadata": {
    "papermill": {
     "duration": 0.040964,
     "end_time": "2021-05-05T13:01:36.625178",
     "exception": false,
     "start_time": "2021-05-05T13:01:36.584214",
     "status": "completed"
    },
    "tags": []
   },
   "source": [
    "<span style=\"color:Black; font-size:15px;\">\n",
    "The first step in data preprocessing is to consider only alphabets and removing the numbers, special characters and converting all the words to lower case\n",
    "</span>"
   ]
  },
  {
   "cell_type": "code",
   "execution_count": 9,
   "id": "noted-greene",
   "metadata": {
    "execution": {
     "iopub.execute_input": "2021-05-05T13:01:36.714940Z",
     "iopub.status.busy": "2021-05-05T13:01:36.713910Z",
     "iopub.status.idle": "2021-05-05T13:01:48.406648Z",
     "shell.execute_reply": "2021-05-05T13:01:48.407135Z"
    },
    "papermill": {
     "duration": 11.741964,
     "end_time": "2021-05-05T13:01:48.407314",
     "exception": false,
     "start_time": "2021-05-05T13:01:36.665350",
     "status": "completed"
    },
    "tags": []
   },
   "outputs": [
    {
     "data": {
      "text/html": [
       "<div>\n",
       "<style scoped>\n",
       "    .dataframe tbody tr th:only-of-type {\n",
       "        vertical-align: middle;\n",
       "    }\n",
       "\n",
       "    .dataframe tbody tr th {\n",
       "        vertical-align: top;\n",
       "    }\n",
       "\n",
       "    .dataframe thead th {\n",
       "        text-align: right;\n",
       "    }\n",
       "</style>\n",
       "<table border=\"1\" class=\"dataframe\">\n",
       "  <thead>\n",
       "    <tr style=\"text-align: right;\">\n",
       "      <th></th>\n",
       "      <th>text</th>\n",
       "      <th>train/test</th>\n",
       "      <th>cleaned(only alphabets)</th>\n",
       "    </tr>\n",
       "  </thead>\n",
       "  <tbody>\n",
       "    <tr>\n",
       "      <th>0</th>\n",
       "      <td>House Dem Aide: We Didn’t Even See Comey’s Let...</td>\n",
       "      <td>train</td>\n",
       "      <td>house dem aide  we didn t even see comey s let...</td>\n",
       "    </tr>\n",
       "    <tr>\n",
       "      <th>1</th>\n",
       "      <td>Ever get the feeling your life circles the rou...</td>\n",
       "      <td>train</td>\n",
       "      <td>ever get the feeling your life circles the rou...</td>\n",
       "    </tr>\n",
       "    <tr>\n",
       "      <th>2</th>\n",
       "      <td>Why the Truth Might Get You Fired October 29, ...</td>\n",
       "      <td>train</td>\n",
       "      <td>why the truth might get you fired october     ...</td>\n",
       "    </tr>\n",
       "    <tr>\n",
       "      <th>3</th>\n",
       "      <td>Videos 15 Civilians Killed In Single US Airstr...</td>\n",
       "      <td>train</td>\n",
       "      <td>videos    civilians killed in single us airstr...</td>\n",
       "    </tr>\n",
       "    <tr>\n",
       "      <th>4</th>\n",
       "      <td>Print \\nAn Iranian woman has been sentenced to...</td>\n",
       "      <td>train</td>\n",
       "      <td>print  an iranian woman has been sentenced to ...</td>\n",
       "    </tr>\n",
       "  </tbody>\n",
       "</table>\n",
       "</div>"
      ],
      "text/plain": [
       "                                                text train/test  \\\n",
       "0  House Dem Aide: We Didn’t Even See Comey’s Let...      train   \n",
       "1  Ever get the feeling your life circles the rou...      train   \n",
       "2  Why the Truth Might Get You Fired October 29, ...      train   \n",
       "3  Videos 15 Civilians Killed In Single US Airstr...      train   \n",
       "4  Print \\nAn Iranian woman has been sentenced to...      train   \n",
       "\n",
       "                             cleaned(only alphabets)  \n",
       "0  house dem aide  we didn t even see comey s let...  \n",
       "1  ever get the feeling your life circles the rou...  \n",
       "2  why the truth might get you fired october     ...  \n",
       "3  videos    civilians killed in single us airstr...  \n",
       "4  print  an iranian woman has been sentenced to ...  "
      ]
     },
     "execution_count": 9,
     "metadata": {},
     "output_type": "execute_result"
    }
   ],
   "source": [
    "import re\n",
    "def clean(text):\n",
    "    # removing all the characters other than alphabets\n",
    "    cleaned_text= re.sub(\"[^a-zA-Z]\", \" \", text)\n",
    "    # converting text to lower case\n",
    "    cleaned_text= cleaned_text.lower()\n",
    "    return cleaned_text\n",
    "\n",
    "# Now creating a separate column which contains the above function applied to \"text\" column\n",
    "combined_data[\"cleaned(only alphabets)\"]= combined_data[\"text\"].apply(lambda x : clean(x) )\n",
    "combined_data.head()"
   ]
  },
  {
   "cell_type": "markdown",
   "id": "smooth-northwest",
   "metadata": {
    "papermill": {
     "duration": 0.042693,
     "end_time": "2021-05-05T13:01:48.492263",
     "exception": false,
     "start_time": "2021-05-05T13:01:48.449570",
     "status": "completed"
    },
    "tags": []
   },
   "source": [
    "<span style=\"color:Black; font-size:15px;\">\n",
    " Second step is to convert the whole text into a list of words, so that the stop words can be applied to them later\n",
    "</span>"
   ]
  },
  {
   "cell_type": "code",
   "execution_count": 10,
   "id": "thermal-appeal",
   "metadata": {
    "execution": {
     "iopub.execute_input": "2021-05-05T13:01:48.583575Z",
     "iopub.status.busy": "2021-05-05T13:01:48.582593Z",
     "iopub.status.idle": "2021-05-05T13:01:50.792949Z",
     "shell.execute_reply": "2021-05-05T13:01:50.793560Z"
    },
    "papermill": {
     "duration": 2.258676,
     "end_time": "2021-05-05T13:01:50.793761",
     "exception": false,
     "start_time": "2021-05-05T13:01:48.535085",
     "status": "completed"
    },
    "tags": []
   },
   "outputs": [
    {
     "data": {
      "text/html": [
       "<div>\n",
       "<style scoped>\n",
       "    .dataframe tbody tr th:only-of-type {\n",
       "        vertical-align: middle;\n",
       "    }\n",
       "\n",
       "    .dataframe tbody tr th {\n",
       "        vertical-align: top;\n",
       "    }\n",
       "\n",
       "    .dataframe thead th {\n",
       "        text-align: right;\n",
       "    }\n",
       "</style>\n",
       "<table border=\"1\" class=\"dataframe\">\n",
       "  <thead>\n",
       "    <tr style=\"text-align: right;\">\n",
       "      <th></th>\n",
       "      <th>text</th>\n",
       "      <th>train/test</th>\n",
       "      <th>cleaned(only alphabets)</th>\n",
       "      <th>text_to_words</th>\n",
       "    </tr>\n",
       "  </thead>\n",
       "  <tbody>\n",
       "    <tr>\n",
       "      <th>0</th>\n",
       "      <td>House Dem Aide: We Didn’t Even See Comey’s Let...</td>\n",
       "      <td>train</td>\n",
       "      <td>house dem aide  we didn t even see comey s let...</td>\n",
       "      <td>[house, dem, aide, we, didn, t, even, see, com...</td>\n",
       "    </tr>\n",
       "    <tr>\n",
       "      <th>1</th>\n",
       "      <td>Ever get the feeling your life circles the rou...</td>\n",
       "      <td>train</td>\n",
       "      <td>ever get the feeling your life circles the rou...</td>\n",
       "      <td>[ever, get, the, feeling, your, life, circles,...</td>\n",
       "    </tr>\n",
       "    <tr>\n",
       "      <th>2</th>\n",
       "      <td>Why the Truth Might Get You Fired October 29, ...</td>\n",
       "      <td>train</td>\n",
       "      <td>why the truth might get you fired october     ...</td>\n",
       "      <td>[why, the, truth, might, get, you, fired, octo...</td>\n",
       "    </tr>\n",
       "    <tr>\n",
       "      <th>3</th>\n",
       "      <td>Videos 15 Civilians Killed In Single US Airstr...</td>\n",
       "      <td>train</td>\n",
       "      <td>videos    civilians killed in single us airstr...</td>\n",
       "      <td>[videos, civilians, killed, in, single, us, ai...</td>\n",
       "    </tr>\n",
       "    <tr>\n",
       "      <th>4</th>\n",
       "      <td>Print \\nAn Iranian woman has been sentenced to...</td>\n",
       "      <td>train</td>\n",
       "      <td>print  an iranian woman has been sentenced to ...</td>\n",
       "      <td>[print, an, iranian, woman, has, been, sentenc...</td>\n",
       "    </tr>\n",
       "  </tbody>\n",
       "</table>\n",
       "</div>"
      ],
      "text/plain": [
       "                                                text train/test  \\\n",
       "0  House Dem Aide: We Didn’t Even See Comey’s Let...      train   \n",
       "1  Ever get the feeling your life circles the rou...      train   \n",
       "2  Why the Truth Might Get You Fired October 29, ...      train   \n",
       "3  Videos 15 Civilians Killed In Single US Airstr...      train   \n",
       "4  Print \\nAn Iranian woman has been sentenced to...      train   \n",
       "\n",
       "                             cleaned(only alphabets)  \\\n",
       "0  house dem aide  we didn t even see comey s let...   \n",
       "1  ever get the feeling your life circles the rou...   \n",
       "2  why the truth might get you fired october     ...   \n",
       "3  videos    civilians killed in single us airstr...   \n",
       "4  print  an iranian woman has been sentenced to ...   \n",
       "\n",
       "                                       text_to_words  \n",
       "0  [house, dem, aide, we, didn, t, even, see, com...  \n",
       "1  [ever, get, the, feeling, your, life, circles,...  \n",
       "2  [why, the, truth, might, get, you, fired, octo...  \n",
       "3  [videos, civilians, killed, in, single, us, ai...  \n",
       "4  [print, an, iranian, woman, has, been, sentenc...  "
      ]
     },
     "execution_count": 10,
     "metadata": {},
     "output_type": "execute_result"
    }
   ],
   "source": [
    "def text_to_words(text):\n",
    "    words= text.split()\n",
    "    return words\n",
    "\n",
    "# column containing text converted to list of words\n",
    "combined_data[\"text_to_words\"]= combined_data[\"cleaned(only alphabets)\"].apply(lambda x : text_to_words(x))\n",
    "combined_data.head()"
   ]
  },
  {
   "cell_type": "markdown",
   "id": "still-working",
   "metadata": {
    "papermill": {
     "duration": 0.043247,
     "end_time": "2021-05-05T13:01:50.880115",
     "exception": false,
     "start_time": "2021-05-05T13:01:50.836868",
     "status": "completed"
    },
    "tags": []
   },
   "source": [
    "<span style=\"color:Black; font-size:15px;\">\n",
    " Words like a, the , is , then etc are redundant and doesn't play any role in nlp, so it's better to remove these type of words. And stop words is the way to do that.\n",
    "</span>"
   ]
  },
  {
   "cell_type": "code",
   "execution_count": 11,
   "id": "labeled-thomson",
   "metadata": {
    "execution": {
     "iopub.execute_input": "2021-05-05T13:01:50.971274Z",
     "iopub.status.busy": "2021-05-05T13:01:50.970347Z",
     "iopub.status.idle": "2021-05-05T14:03:25.799535Z",
     "shell.execute_reply": "2021-05-05T14:03:25.800050Z"
    },
    "papermill": {
     "duration": 3694.878341,
     "end_time": "2021-05-05T14:03:25.800294",
     "exception": false,
     "start_time": "2021-05-05T13:01:50.921953",
     "status": "completed"
    },
    "tags": []
   },
   "outputs": [],
   "source": [
    "import nltk\n",
    "from nltk.corpus import stopwords\n",
    "from nltk.stem.porter import PorterStemmer\n",
    "stemmer = PorterStemmer()\n",
    "\n",
    "def clean_words(word_list):\n",
    "    # applying stop words\n",
    "    word= [stemmer.stem(word) for word in word_list if not word in stopwords.words(\"english\")]\n",
    "    # joining them again\n",
    "    word= \" \".join(word)\n",
    "    return word  \n",
    "\n",
    "combined_data[\"cleaned_words\"]= combined_data[\"text_to_words\"].apply(lambda x: clean_words(x))"
   ]
  },
  {
   "cell_type": "code",
   "execution_count": 12,
   "id": "round-final",
   "metadata": {
    "execution": {
     "iopub.execute_input": "2021-05-05T14:03:25.915813Z",
     "iopub.status.busy": "2021-05-05T14:03:25.912437Z",
     "iopub.status.idle": "2021-05-05T14:03:25.921255Z",
     "shell.execute_reply": "2021-05-05T14:03:25.920669Z"
    },
    "papermill": {
     "duration": 0.075444,
     "end_time": "2021-05-05T14:03:25.921399",
     "exception": false,
     "start_time": "2021-05-05T14:03:25.845955",
     "status": "completed"
    },
    "tags": []
   },
   "outputs": [
    {
     "data": {
      "text/html": [
       "<div>\n",
       "<style scoped>\n",
       "    .dataframe tbody tr th:only-of-type {\n",
       "        vertical-align: middle;\n",
       "    }\n",
       "\n",
       "    .dataframe tbody tr th {\n",
       "        vertical-align: top;\n",
       "    }\n",
       "\n",
       "    .dataframe thead th {\n",
       "        text-align: right;\n",
       "    }\n",
       "</style>\n",
       "<table border=\"1\" class=\"dataframe\">\n",
       "  <thead>\n",
       "    <tr style=\"text-align: right;\">\n",
       "      <th></th>\n",
       "      <th>text</th>\n",
       "      <th>train/test</th>\n",
       "      <th>cleaned(only alphabets)</th>\n",
       "      <th>text_to_words</th>\n",
       "      <th>cleaned_words</th>\n",
       "    </tr>\n",
       "  </thead>\n",
       "  <tbody>\n",
       "    <tr>\n",
       "      <th>0</th>\n",
       "      <td>House Dem Aide: We Didn’t Even See Comey’s Let...</td>\n",
       "      <td>train</td>\n",
       "      <td>house dem aide  we didn t even see comey s let...</td>\n",
       "      <td>[house, dem, aide, we, didn, t, even, see, com...</td>\n",
       "      <td>hous dem aid even see comey letter jason chaff...</td>\n",
       "    </tr>\n",
       "    <tr>\n",
       "      <th>1</th>\n",
       "      <td>Ever get the feeling your life circles the rou...</td>\n",
       "      <td>train</td>\n",
       "      <td>ever get the feeling your life circles the rou...</td>\n",
       "      <td>[ever, get, the, feeling, your, life, circles,...</td>\n",
       "      <td>ever get feel life circl roundabout rather hea...</td>\n",
       "    </tr>\n",
       "    <tr>\n",
       "      <th>2</th>\n",
       "      <td>Why the Truth Might Get You Fired October 29, ...</td>\n",
       "      <td>train</td>\n",
       "      <td>why the truth might get you fired october     ...</td>\n",
       "      <td>[why, the, truth, might, get, you, fired, octo...</td>\n",
       "      <td>truth might get fire octob tension intellig an...</td>\n",
       "    </tr>\n",
       "    <tr>\n",
       "      <th>3</th>\n",
       "      <td>Videos 15 Civilians Killed In Single US Airstr...</td>\n",
       "      <td>train</td>\n",
       "      <td>videos    civilians killed in single us airstr...</td>\n",
       "      <td>[videos, civilians, killed, in, single, us, ai...</td>\n",
       "      <td>video civilian kill singl us airstrik identifi...</td>\n",
       "    </tr>\n",
       "    <tr>\n",
       "      <th>4</th>\n",
       "      <td>Print \\nAn Iranian woman has been sentenced to...</td>\n",
       "      <td>train</td>\n",
       "      <td>print  an iranian woman has been sentenced to ...</td>\n",
       "      <td>[print, an, iranian, woman, has, been, sentenc...</td>\n",
       "      <td>print iranian woman sentenc six year prison ir...</td>\n",
       "    </tr>\n",
       "    <tr>\n",
       "      <th>5</th>\n",
       "      <td>In these trying times, Jackie Mason is the Voi...</td>\n",
       "      <td>train</td>\n",
       "      <td>in these trying times  jackie mason is the voi...</td>\n",
       "      <td>[in, these, trying, times, jackie, mason, is, ...</td>\n",
       "      <td>tri time jacki mason voic reason week exclus c...</td>\n",
       "    </tr>\n",
       "    <tr>\n",
       "      <th>6</th>\n",
       "      <td>Ever wonder how Britain’s most iconic pop pian...</td>\n",
       "      <td>train</td>\n",
       "      <td>ever wonder how britain s most iconic pop pian...</td>\n",
       "      <td>[ever, wonder, how, britain, s, most, iconic, ...</td>\n",
       "      <td>ever wonder britain icon pop pianist get long ...</td>\n",
       "    </tr>\n",
       "  </tbody>\n",
       "</table>\n",
       "</div>"
      ],
      "text/plain": [
       "                                                text train/test  \\\n",
       "0  House Dem Aide: We Didn’t Even See Comey’s Let...      train   \n",
       "1  Ever get the feeling your life circles the rou...      train   \n",
       "2  Why the Truth Might Get You Fired October 29, ...      train   \n",
       "3  Videos 15 Civilians Killed In Single US Airstr...      train   \n",
       "4  Print \\nAn Iranian woman has been sentenced to...      train   \n",
       "5  In these trying times, Jackie Mason is the Voi...      train   \n",
       "6  Ever wonder how Britain’s most iconic pop pian...      train   \n",
       "\n",
       "                             cleaned(only alphabets)  \\\n",
       "0  house dem aide  we didn t even see comey s let...   \n",
       "1  ever get the feeling your life circles the rou...   \n",
       "2  why the truth might get you fired october     ...   \n",
       "3  videos    civilians killed in single us airstr...   \n",
       "4  print  an iranian woman has been sentenced to ...   \n",
       "5  in these trying times  jackie mason is the voi...   \n",
       "6  ever wonder how britain s most iconic pop pian...   \n",
       "\n",
       "                                       text_to_words  \\\n",
       "0  [house, dem, aide, we, didn, t, even, see, com...   \n",
       "1  [ever, get, the, feeling, your, life, circles,...   \n",
       "2  [why, the, truth, might, get, you, fired, octo...   \n",
       "3  [videos, civilians, killed, in, single, us, ai...   \n",
       "4  [print, an, iranian, woman, has, been, sentenc...   \n",
       "5  [in, these, trying, times, jackie, mason, is, ...   \n",
       "6  [ever, wonder, how, britain, s, most, iconic, ...   \n",
       "\n",
       "                                       cleaned_words  \n",
       "0  hous dem aid even see comey letter jason chaff...  \n",
       "1  ever get feel life circl roundabout rather hea...  \n",
       "2  truth might get fire octob tension intellig an...  \n",
       "3  video civilian kill singl us airstrik identifi...  \n",
       "4  print iranian woman sentenc six year prison ir...  \n",
       "5  tri time jacki mason voic reason week exclus c...  \n",
       "6  ever wonder britain icon pop pianist get long ...  "
      ]
     },
     "execution_count": 12,
     "metadata": {},
     "output_type": "execute_result"
    }
   ],
   "source": [
    "combined_data.head(7)"
   ]
  },
  {
   "cell_type": "markdown",
   "id": "current-lloyd",
   "metadata": {
    "papermill": {
     "duration": 0.044853,
     "end_time": "2021-05-05T14:03:26.012351",
     "exception": false,
     "start_time": "2021-05-05T14:03:25.967498",
     "status": "completed"
    },
    "tags": []
   },
   "source": [
    "<span style=\"color:Black; font-size:15px;\">\n",
    "So we got our cleaned_words, create a function to count number of words it contains\n",
    "</span>"
   ]
  },
  {
   "cell_type": "code",
   "execution_count": 13,
   "id": "weekly-bundle",
   "metadata": {
    "execution": {
     "iopub.execute_input": "2021-05-05T14:03:26.109722Z",
     "iopub.status.busy": "2021-05-05T14:03:26.108716Z",
     "iopub.status.idle": "2021-05-05T14:03:26.728895Z",
     "shell.execute_reply": "2021-05-05T14:03:26.729431Z"
    },
    "papermill": {
     "duration": 0.672388,
     "end_time": "2021-05-05T14:03:26.729600",
     "exception": false,
     "start_time": "2021-05-05T14:03:26.057212",
     "status": "completed"
    },
    "tags": []
   },
   "outputs": [
    {
     "data": {
      "text/html": [
       "<div>\n",
       "<style scoped>\n",
       "    .dataframe tbody tr th:only-of-type {\n",
       "        vertical-align: middle;\n",
       "    }\n",
       "\n",
       "    .dataframe tbody tr th {\n",
       "        vertical-align: top;\n",
       "    }\n",
       "\n",
       "    .dataframe thead th {\n",
       "        text-align: right;\n",
       "    }\n",
       "</style>\n",
       "<table border=\"1\" class=\"dataframe\">\n",
       "  <thead>\n",
       "    <tr style=\"text-align: right;\">\n",
       "      <th></th>\n",
       "      <th>text</th>\n",
       "      <th>train/test</th>\n",
       "      <th>cleaned(only alphabets)</th>\n",
       "      <th>text_to_words</th>\n",
       "      <th>cleaned_words</th>\n",
       "      <th>word_count</th>\n",
       "    </tr>\n",
       "  </thead>\n",
       "  <tbody>\n",
       "    <tr>\n",
       "      <th>0</th>\n",
       "      <td>House Dem Aide: We Didn’t Even See Comey’s Let...</td>\n",
       "      <td>train</td>\n",
       "      <td>house dem aide  we didn t even see comey s let...</td>\n",
       "      <td>[house, dem, aide, we, didn, t, even, see, com...</td>\n",
       "      <td>hous dem aid even see comey letter jason chaff...</td>\n",
       "      <td>433</td>\n",
       "    </tr>\n",
       "    <tr>\n",
       "      <th>1</th>\n",
       "      <td>Ever get the feeling your life circles the rou...</td>\n",
       "      <td>train</td>\n",
       "      <td>ever get the feeling your life circles the rou...</td>\n",
       "      <td>[ever, get, the, feeling, your, life, circles,...</td>\n",
       "      <td>ever get feel life circl roundabout rather hea...</td>\n",
       "      <td>367</td>\n",
       "    </tr>\n",
       "    <tr>\n",
       "      <th>2</th>\n",
       "      <td>Why the Truth Might Get You Fired October 29, ...</td>\n",
       "      <td>train</td>\n",
       "      <td>why the truth might get you fired october     ...</td>\n",
       "      <td>[why, the, truth, might, get, you, fired, octo...</td>\n",
       "      <td>truth might get fire octob tension intellig an...</td>\n",
       "      <td>692</td>\n",
       "    </tr>\n",
       "    <tr>\n",
       "      <th>3</th>\n",
       "      <td>Videos 15 Civilians Killed In Single US Airstr...</td>\n",
       "      <td>train</td>\n",
       "      <td>videos    civilians killed in single us airstr...</td>\n",
       "      <td>[videos, civilians, killed, in, single, us, ai...</td>\n",
       "      <td>video civilian kill singl us airstrik identifi...</td>\n",
       "      <td>305</td>\n",
       "    </tr>\n",
       "    <tr>\n",
       "      <th>4</th>\n",
       "      <td>Print \\nAn Iranian woman has been sentenced to...</td>\n",
       "      <td>train</td>\n",
       "      <td>print  an iranian woman has been sentenced to ...</td>\n",
       "      <td>[print, an, iranian, woman, has, been, sentenc...</td>\n",
       "      <td>print iranian woman sentenc six year prison ir...</td>\n",
       "      <td>86</td>\n",
       "    </tr>\n",
       "  </tbody>\n",
       "</table>\n",
       "</div>"
      ],
      "text/plain": [
       "                                                text train/test  \\\n",
       "0  House Dem Aide: We Didn’t Even See Comey’s Let...      train   \n",
       "1  Ever get the feeling your life circles the rou...      train   \n",
       "2  Why the Truth Might Get You Fired October 29, ...      train   \n",
       "3  Videos 15 Civilians Killed In Single US Airstr...      train   \n",
       "4  Print \\nAn Iranian woman has been sentenced to...      train   \n",
       "\n",
       "                             cleaned(only alphabets)  \\\n",
       "0  house dem aide  we didn t even see comey s let...   \n",
       "1  ever get the feeling your life circles the rou...   \n",
       "2  why the truth might get you fired october     ...   \n",
       "3  videos    civilians killed in single us airstr...   \n",
       "4  print  an iranian woman has been sentenced to ...   \n",
       "\n",
       "                                       text_to_words  \\\n",
       "0  [house, dem, aide, we, didn, t, even, see, com...   \n",
       "1  [ever, get, the, feeling, your, life, circles,...   \n",
       "2  [why, the, truth, might, get, you, fired, octo...   \n",
       "3  [videos, civilians, killed, in, single, us, ai...   \n",
       "4  [print, an, iranian, woman, has, been, sentenc...   \n",
       "\n",
       "                                       cleaned_words  word_count  \n",
       "0  hous dem aid even see comey letter jason chaff...         433  \n",
       "1  ever get feel life circl roundabout rather hea...         367  \n",
       "2  truth might get fire octob tension intellig an...         692  \n",
       "3  video civilian kill singl us airstrik identifi...         305  \n",
       "4  print iranian woman sentenc six year prison ir...          86  "
      ]
     },
     "execution_count": 13,
     "metadata": {},
     "output_type": "execute_result"
    }
   ],
   "source": [
    "def word_count(text):\n",
    "    text = str(text)\n",
    "    return len(text.split(' '))\n",
    "\n",
    "combined_data['word_count'] = combined_data['cleaned_words'].apply(word_count)\n",
    "combined_data.head()"
   ]
  },
  {
   "cell_type": "markdown",
   "id": "premier-income",
   "metadata": {
    "papermill": {
     "duration": 0.045645,
     "end_time": "2021-05-05T14:03:26.821168",
     "exception": false,
     "start_time": "2021-05-05T14:03:26.775523",
     "status": "completed"
    },
    "tags": []
   },
   "source": [
    "<span style=\"color:Black; font-size:15px;\">\n",
    "Let's have a look at what we have done till now. Let's compare the text before and after preprocessing \n",
    "</span>"
   ]
  },
  {
   "cell_type": "code",
   "execution_count": 14,
   "id": "alternative-transportation",
   "metadata": {
    "execution": {
     "iopub.execute_input": "2021-05-05T14:03:26.918175Z",
     "iopub.status.busy": "2021-05-05T14:03:26.917251Z",
     "iopub.status.idle": "2021-05-05T14:03:26.927880Z",
     "shell.execute_reply": "2021-05-05T14:03:26.928510Z"
    },
    "papermill": {
     "duration": 0.061487,
     "end_time": "2021-05-05T14:03:26.928669",
     "exception": false,
     "start_time": "2021-05-05T14:03:26.867182",
     "status": "completed"
    },
    "tags": []
   },
   "outputs": [
    {
     "name": "stdout",
     "output_type": "stream",
     "text": [
      "Text Before Preprocessing :\n",
      "\n",
      " 0    House Dem Aide: We Didn’t Even See Comey’s Let...\n",
      "0    PALO ALTO, Calif.  —   After years of scorning...\n",
      "Name: text, dtype: object\n",
      "\n",
      "\n",
      "Text After Preprocessing :\n",
      "\n",
      " 0    hous dem aid even see comey letter jason chaff...\n",
      "0    palo alto calif year scorn polit process silic...\n",
      "Name: cleaned_words, dtype: object\n"
     ]
    }
   ],
   "source": [
    "print(\"Text Before Preprocessing :\\n\\n\", combined_data[\"text\"][0])\n",
    "print(\"\\n\\nText After Preprocessing :\\n\\n\",combined_data[\"cleaned_words\"][0])"
   ]
  },
  {
   "cell_type": "markdown",
   "id": "suspected-linux",
   "metadata": {
    "papermill": {
     "duration": 0.044298,
     "end_time": "2021-05-05T14:03:27.018893",
     "exception": false,
     "start_time": "2021-05-05T14:03:26.974595",
     "status": "completed"
    },
    "tags": []
   },
   "source": [
    "<span style=\"font-family:luxury; color:Black; font-size:30px;\"> Separating train and test dataset</span><br>"
   ]
  },
  {
   "cell_type": "code",
   "execution_count": 15,
   "id": "handmade-camcorder",
   "metadata": {
    "execution": {
     "iopub.execute_input": "2021-05-05T14:03:27.117386Z",
     "iopub.status.busy": "2021-05-05T14:03:27.116000Z",
     "iopub.status.idle": "2021-05-05T14:03:27.131307Z",
     "shell.execute_reply": "2021-05-05T14:03:27.131862Z"
    },
    "papermill": {
     "duration": 0.068574,
     "end_time": "2021-05-05T14:03:27.132030",
     "exception": false,
     "start_time": "2021-05-05T14:03:27.063456",
     "status": "completed"
    },
    "tags": []
   },
   "outputs": [],
   "source": [
    "train_data= combined_data[combined_data[\"train/test\"] == \"train\"]\n",
    "test_data= combined_data[combined_data[\"train/test\"] == \"test\"]"
   ]
  },
  {
   "cell_type": "markdown",
   "id": "paperback-annotation",
   "metadata": {
    "papermill": {
     "duration": 0.045143,
     "end_time": "2021-05-05T14:03:27.221889",
     "exception": false,
     "start_time": "2021-05-05T14:03:27.176746",
     "status": "completed"
    },
    "tags": []
   },
   "source": [
    "<span style=\"font-family:luxury; color:Black; font-size:25px;\"> Vector Representation of words</span><br>\n",
    "<span style=\"color:Black; font-size:15px;\">\n",
    "Now we have to convert meaningful text into vector representation such that a machine can understand the pattern associated in any text and can make out the context of sentences.<br>\n",
    "And for this we will be using word embedding technique.    \n",
    "</span>"
   ]
  },
  {
   "cell_type": "markdown",
   "id": "elect-prairie",
   "metadata": {
    "papermill": {
     "duration": 0.044798,
     "end_time": "2021-05-05T14:03:27.312034",
     "exception": false,
     "start_time": "2021-05-05T14:03:27.267236",
     "status": "completed"
    },
    "tags": []
   },
   "source": [
    "<span style=\"font-family:luxury; color:BlaCk; font-size:25px;\"> One-hot Encoding</span><br>\n",
    "<span style=\"color:Black; font-size:15px;\">\n",
    "Before applying word embedding, words must be one-hot encoded\n",
    "</span>"
   ]
  },
  {
   "cell_type": "code",
   "execution_count": 16,
   "id": "beautiful-carter",
   "metadata": {
    "execution": {
     "iopub.execute_input": "2021-05-05T14:03:27.407582Z",
     "iopub.status.busy": "2021-05-05T14:03:27.406900Z",
     "iopub.status.idle": "2021-05-05T14:03:40.420415Z",
     "shell.execute_reply": "2021-05-05T14:03:40.419840Z"
    },
    "papermill": {
     "duration": 13.063385,
     "end_time": "2021-05-05T14:03:40.420558",
     "exception": false,
     "start_time": "2021-05-05T14:03:27.357173",
     "status": "completed"
    },
    "tags": []
   },
   "outputs": [],
   "source": [
    "from keras.preprocessing.text import one_hot\n",
    "vocab_size= 10000\n",
    "\n",
    "# one-hot encoding train_data\n",
    "trainWords_to_list= []\n",
    "for i in range(0, len(train_data)):\n",
    "    trainWords_to_list.append(train_data[\"cleaned_words\"][i])\n",
    "    \n",
    "encoded_train= [one_hot(word, vocab_size) for word in trainWords_to_list]\n",
    "\n",
    "\n",
    "# one-hot encoding test_data\n",
    "testWords_to_list= []\n",
    "for i in range(0, len(test_data)):\n",
    "    testWords_to_list.append(test_data[\"cleaned_words\"][i])\n",
    "    \n",
    "encoded_test= [one_hot(word, vocab_size) for word in testWords_to_list]"
   ]
  },
  {
   "cell_type": "markdown",
   "id": "closing-traffic",
   "metadata": {
    "papermill": {
     "duration": 0.043983,
     "end_time": "2021-05-05T14:03:40.510979",
     "exception": false,
     "start_time": "2021-05-05T14:03:40.466996",
     "status": "completed"
    },
    "tags": []
   },
   "source": [
    "<span style=\"color:Black; font-size:15px;\">\n",
    "This is how one-hot encoded text looks like. Each word is represented by it's index number present in the vocabulary size.\n",
    "</span>"
   ]
  },
  {
   "cell_type": "code",
   "execution_count": 17,
   "id": "legitimate-eugene",
   "metadata": {
    "execution": {
     "iopub.execute_input": "2021-05-05T14:03:40.618726Z",
     "iopub.status.busy": "2021-05-05T14:03:40.617507Z",
     "iopub.status.idle": "2021-05-05T14:03:40.623055Z",
     "shell.execute_reply": "2021-05-05T14:03:40.622431Z"
    },
    "papermill": {
     "duration": 0.066725,
     "end_time": "2021-05-05T14:03:40.623229",
     "exception": false,
     "start_time": "2021-05-05T14:03:40.556504",
     "status": "completed"
    },
    "tags": []
   },
   "outputs": [
    {
     "data": {
      "text/plain": [
       "[3663,\n",
       " 9229,\n",
       " 4159,\n",
       " 5514,\n",
       " 4410,\n",
       " 6331,\n",
       " 2204,\n",
       " 1599,\n",
       " 2306,\n",
       " 5074,\n",
       " 6392,\n",
       " 2411,\n",
       " 1181,\n",
       " 2579,\n",
       " 1599,\n",
       " 2306,\n",
       " 4758,\n",
       " 1501,\n",
       " 4053,\n",
       " 2288,\n",
       " 7836,\n",
       " 6989,\n",
       " 1573,\n",
       " 1258,\n",
       " 2950,\n",
       " 7988,\n",
       " 9435,\n",
       " 9801,\n",
       " 4517,\n",
       " 8392,\n",
       " 695,\n",
       " 4192,\n",
       " 6645,\n",
       " 7454,\n",
       " 8403,\n",
       " 8160,\n",
       " 1608,\n",
       " 5783,\n",
       " 9951,\n",
       " 6331,\n",
       " 2265,\n",
       " 3663,\n",
       " 2709,\n",
       " 4159,\n",
       " 7121,\n",
       " 2846,\n",
       " 862,\n",
       " 5079,\n",
       " 2873,\n",
       " 6645,\n",
       " 7454,\n",
       " 988,\n",
       " 5406,\n",
       " 6331,\n",
       " 9250,\n",
       " 3690,\n",
       " 2204,\n",
       " 7709,\n",
       " 1608,\n",
       " 7121,\n",
       " 7157,\n",
       " 2161,\n",
       " 4195,\n",
       " 8036,\n",
       " 7900,\n",
       " 7157,\n",
       " 5982,\n",
       " 2689,\n",
       " 2709,\n",
       " 297,\n",
       " 6844,\n",
       " 8894,\n",
       " 6331,\n",
       " 8107,\n",
       " 4852,\n",
       " 5074,\n",
       " 41,\n",
       " 479,\n",
       " 6844,\n",
       " 610,\n",
       " 5079,\n",
       " 6331,\n",
       " 685,\n",
       " 479,\n",
       " 610,\n",
       " 2709,\n",
       " 2689,\n",
       " 2648,\n",
       " 3663,\n",
       " 9490,\n",
       " 8972,\n",
       " 4344,\n",
       " 6844,\n",
       " 4499,\n",
       " 136,\n",
       " 7157,\n",
       " 5660,\n",
       " 3253,\n",
       " 9425,\n",
       " 4410,\n",
       " 244,\n",
       " 2362,\n",
       " 9564,\n",
       " 5654,\n",
       " 2204,\n",
       " 6297,\n",
       " 4344,\n",
       " 6844,\n",
       " 5770,\n",
       " 1599,\n",
       " 2306,\n",
       " 8436,\n",
       " 440,\n",
       " 8403,\n",
       " 8877,\n",
       " 5074,\n",
       " 1608,\n",
       " 5189,\n",
       " 9564,\n",
       " 1608,\n",
       " 7996,\n",
       " 9642,\n",
       " 7157,\n",
       " 8649,\n",
       " 5683,\n",
       " 9840,\n",
       " 6868,\n",
       " 4502,\n",
       " 1599,\n",
       " 2306,\n",
       " 6117,\n",
       " 1181,\n",
       " 8877,\n",
       " 5079,\n",
       " 6868,\n",
       " 6331,\n",
       " 5690,\n",
       " 3657,\n",
       " 136,\n",
       " 7157,\n",
       " 5913,\n",
       " 323,\n",
       " 6868,\n",
       " 5079,\n",
       " 277,\n",
       " 6979,\n",
       " 4663,\n",
       " 8769,\n",
       " 5617,\n",
       " 3739,\n",
       " 2084,\n",
       " 9105,\n",
       " 8391,\n",
       " 2306,\n",
       " 2288,\n",
       " 479,\n",
       " 3816,\n",
       " 2555,\n",
       " 144,\n",
       " 8974,\n",
       " 9840,\n",
       " 8036,\n",
       " 3550,\n",
       " 7031,\n",
       " 1061,\n",
       " 2786,\n",
       " 2502,\n",
       " 9764,\n",
       " 6247,\n",
       " 5596,\n",
       " 2502,\n",
       " 5617,\n",
       " 2306,\n",
       " 1203,\n",
       " 1608,\n",
       " 3816,\n",
       " 7911,\n",
       " 2942,\n",
       " 5074,\n",
       " 2405,\n",
       " 1392,\n",
       " 6282,\n",
       " 8667,\n",
       " 4683,\n",
       " 7044,\n",
       " 2417,\n",
       " 2265,\n",
       " 2447,\n",
       " 3663,\n",
       " 2709,\n",
       " 4159,\n",
       " 7162,\n",
       " 2204,\n",
       " 2161,\n",
       " 7031,\n",
       " 2306,\n",
       " 7925,\n",
       " 4159,\n",
       " 7563,\n",
       " 3901,\n",
       " 4844,\n",
       " 2709,\n",
       " 5514,\n",
       " 5079,\n",
       " 6331,\n",
       " 2204,\n",
       " 5684,\n",
       " 8107,\n",
       " 2859,\n",
       " 7100,\n",
       " 2709,\n",
       " 2689,\n",
       " 2648,\n",
       " 297,\n",
       " 6844,\n",
       " 9793,\n",
       " 6331,\n",
       " 2204,\n",
       " 479,\n",
       " 610,\n",
       " 9105,\n",
       " 2709,\n",
       " 2689,\n",
       " 2648,\n",
       " 9793,\n",
       " 5770,\n",
       " 4344,\n",
       " 2002,\n",
       " 2918,\n",
       " 6844,\n",
       " 1599,\n",
       " 2306,\n",
       " 5074,\n",
       " 9104,\n",
       " 2519,\n",
       " 4815,\n",
       " 4410,\n",
       " 2050,\n",
       " 7708,\n",
       " 1608,\n",
       " 5783,\n",
       " 1923,\n",
       " 2306,\n",
       " 2619,\n",
       " 6844,\n",
       " 610,\n",
       " 5716,\n",
       " 9767,\n",
       " 5133,\n",
       " 440,\n",
       " 6615,\n",
       " 9840,\n",
       " 8790,\n",
       " 2306,\n",
       " 8038,\n",
       " 6989,\n",
       " 4815,\n",
       " 2709,\n",
       " 6702,\n",
       " 5079,\n",
       " 7803,\n",
       " 2265,\n",
       " 4159,\n",
       " 9104,\n",
       " 805,\n",
       " 7100,\n",
       " 3816,\n",
       " 6485,\n",
       " 2075,\n",
       " 6320,\n",
       " 6331,\n",
       " 8628,\n",
       " 3902,\n",
       " 1247,\n",
       " 2204,\n",
       " 2306,\n",
       " 479,\n",
       " 4039,\n",
       " 5684,\n",
       " 5406,\n",
       " 4692,\n",
       " 7605,\n",
       " 2161,\n",
       " 3777,\n",
       " 3445,\n",
       " 2016,\n",
       " 5521,\n",
       " 1979,\n",
       " 5514,\n",
       " 6871,\n",
       " 6868,\n",
       " 5521,\n",
       " 1979,\n",
       " 6871,\n",
       " 6331,\n",
       " 6672,\n",
       " 8772,\n",
       " 1894,\n",
       " 8370,\n",
       " 9052,\n",
       " 6871,\n",
       " 6842,\n",
       " 2306,\n",
       " 1590,\n",
       " 5667,\n",
       " 3777,\n",
       " 1530,\n",
       " 6624,\n",
       " 6392,\n",
       " 2139,\n",
       " 7121,\n",
       " 2846,\n",
       " 5578,\n",
       " 8797,\n",
       " 6758,\n",
       " 5514,\n",
       " 2326,\n",
       " 685,\n",
       " 2689,\n",
       " 2648,\n",
       " 9767,\n",
       " 4849,\n",
       " 2556,\n",
       " 6615,\n",
       " 2245,\n",
       " 1613,\n",
       " 1400,\n",
       " 5351,\n",
       " 5079,\n",
       " 7913,\n",
       " 2846,\n",
       " 2306,\n",
       " 1683,\n",
       " 3446,\n",
       " 3229,\n",
       " 479,\n",
       " 7898,\n",
       " 2353,\n",
       " 8292,\n",
       " 1487,\n",
       " 8296,\n",
       " 2031,\n",
       " 927,\n",
       " 6058,\n",
       " 1438,\n",
       " 9372,\n",
       " 5758,\n",
       " 9543,\n",
       " 6445,\n",
       " 4255,\n",
       " 927,\n",
       " 7140,\n",
       " 479,\n",
       " 3663,\n",
       " 2312,\n",
       " 5086,\n",
       " 7460,\n",
       " 8325,\n",
       " 2306,\n",
       " 6614,\n",
       " 3042,\n",
       " 9668,\n",
       " 3962,\n",
       " 5406,\n",
       " 1441,\n",
       " 5913,\n",
       " 1011,\n",
       " 1799,\n",
       " 3663,\n",
       " 8857,\n",
       " 479,\n",
       " 3077,\n",
       " 862,\n",
       " 2873,\n",
       " 6645,\n",
       " 7454,\n",
       " 8403,\n",
       " 6392,\n",
       " 2411,\n",
       " 6392,\n",
       " 2556,\n",
       " 2408,\n",
       " 9026,\n",
       " 8879,\n",
       " 6057,\n",
       " 9994,\n",
       " 2591,\n",
       " 7889,\n",
       " 5548,\n",
       " 2256,\n",
       " 5406,\n",
       " 2648,\n",
       " 9064,\n",
       " 7708,\n",
       " 3712,\n",
       " 2855,\n",
       " 5406,\n",
       " 9064,\n",
       " 7708,\n",
       " 6645,\n",
       " 6603,\n",
       " 8890,\n",
       " 443,\n",
       " 7365,\n",
       " 9877,\n",
       " 301,\n",
       " 417,\n",
       " 5977,\n",
       " 8144,\n",
       " 9052,\n",
       " 4670,\n",
       " 1319,\n",
       " 8438,\n",
       " 2786,\n",
       " 4957,\n",
       " 2161,\n",
       " 5079,\n",
       " 2075,\n",
       " 6320,\n",
       " 443,\n",
       " 9229,\n",
       " 2744,\n",
       " 1479,\n",
       " 7100,\n",
       " 3090,\n",
       " 3838,\n",
       " 4994,\n",
       " 6925,\n",
       " 8065,\n",
       " 6392,\n",
       " 8073,\n",
       " 6781,\n",
       " 3838]"
      ]
     },
     "execution_count": 17,
     "metadata": {},
     "output_type": "execute_result"
    }
   ],
   "source": [
    "encoded_train[0]"
   ]
  },
  {
   "cell_type": "markdown",
   "id": "geographic-layer",
   "metadata": {
    "papermill": {
     "duration": 0.045745,
     "end_time": "2021-05-05T14:03:40.716664",
     "exception": false,
     "start_time": "2021-05-05T14:03:40.670919",
     "status": "completed"
    },
    "tags": []
   },
   "source": [
    "<span style=\"font-family:luxury; color:Black; font-size:25px;\"> Text Padding</span><br>\n",
    "<span style=\"color:Black; font-size:15px;\">\n",
    "Model require to have inputs with the same shape and size. And not all the sentences have the same length. So we need to do padding.<br>\n",
    "    Padding is done by adding zeros for short sentences(pre or post the sentence) and truncating the sentences which exceed the max number of words which is declared by \"maxlen\".\n",
    "</span>"
   ]
  },
  {
   "cell_type": "code",
   "execution_count": 18,
   "id": "novel-faculty",
   "metadata": {
    "execution": {
     "iopub.execute_input": "2021-05-05T14:03:40.811819Z",
     "iopub.status.busy": "2021-05-05T14:03:40.810871Z",
     "iopub.status.idle": "2021-05-05T14:03:42.401149Z",
     "shell.execute_reply": "2021-05-05T14:03:42.402255Z"
    },
    "papermill": {
     "duration": 1.641102,
     "end_time": "2021-05-05T14:03:42.402619",
     "exception": false,
     "start_time": "2021-05-05T14:03:40.761517",
     "status": "completed"
    },
    "tags": []
   },
   "outputs": [],
   "source": [
    "from keras.preprocessing.sequence import pad_sequences\n",
    "text_length= 500\n",
    "\n",
    "# applying padding to one-hot encoded train_data\n",
    "padded_train= pad_sequences(encoded_train, padding= \"pre\", maxlen=text_length)\n",
    "\n",
    "# applying padding to one-hot encoded test_data\n",
    "padded_test= pad_sequences(encoded_test, padding= \"pre\", maxlen=text_length)"
   ]
  },
  {
   "cell_type": "markdown",
   "id": "opened-muscle",
   "metadata": {
    "papermill": {
     "duration": 0.078423,
     "end_time": "2021-05-05T14:03:42.566362",
     "exception": false,
     "start_time": "2021-05-05T14:03:42.487939",
     "status": "completed"
    },
    "tags": []
   },
   "source": [
    "<span style=\"color:Black; font-size:15px;\">\n",
    "It can be seen that in the first text of train_data, zeros have been added to make it equal to text_length=500\n",
    "</span>"
   ]
  },
  {
   "cell_type": "code",
   "execution_count": 19,
   "id": "interpreted-glucose",
   "metadata": {
    "execution": {
     "iopub.execute_input": "2021-05-05T14:03:42.733217Z",
     "iopub.status.busy": "2021-05-05T14:03:42.732201Z",
     "iopub.status.idle": "2021-05-05T14:03:42.739666Z",
     "shell.execute_reply": "2021-05-05T14:03:42.740560Z"
    },
    "papermill": {
     "duration": 0.094992,
     "end_time": "2021-05-05T14:03:42.740739",
     "exception": false,
     "start_time": "2021-05-05T14:03:42.645747",
     "status": "completed"
    },
    "tags": []
   },
   "outputs": [
    {
     "data": {
      "text/plain": [
       "array([   0,    0,    0,    0,    0,    0,    0,    0,    0,    0,    0,\n",
       "          0,    0,    0,    0,    0,    0,    0,    0,    0,    0,    0,\n",
       "          0,    0,    0,    0,    0,    0,    0,    0,    0,    0,    0,\n",
       "          0,    0,    0,    0,    0,    0,    0,    0,    0,    0,    0,\n",
       "          0,    0,    0,    0,    0,    0,    0,    0,    0,    0,    0,\n",
       "          0,    0,    0,    0,    0,    0,    0,    0,    0,    0,    0,\n",
       "          0, 3663, 9229, 4159, 5514, 4410, 6331, 2204, 1599, 2306, 5074,\n",
       "       6392, 2411, 1181, 2579, 1599, 2306, 4758, 1501, 4053, 2288, 7836,\n",
       "       6989, 1573, 1258, 2950, 7988, 9435, 9801, 4517, 8392,  695, 4192,\n",
       "       6645, 7454, 8403, 8160, 1608, 5783, 9951, 6331, 2265, 3663, 2709,\n",
       "       4159, 7121, 2846,  862, 5079, 2873, 6645, 7454,  988, 5406, 6331,\n",
       "       9250, 3690, 2204, 7709, 1608, 7121, 7157, 2161, 4195, 8036, 7900,\n",
       "       7157, 5982, 2689, 2709,  297, 6844, 8894, 6331, 8107, 4852, 5074,\n",
       "         41,  479, 6844,  610, 5079, 6331,  685,  479,  610, 2709, 2689,\n",
       "       2648, 3663, 9490, 8972, 4344, 6844, 4499,  136, 7157, 5660, 3253,\n",
       "       9425, 4410,  244, 2362, 9564, 5654, 2204, 6297, 4344, 6844, 5770,\n",
       "       1599, 2306, 8436,  440, 8403, 8877, 5074, 1608, 5189, 9564, 1608,\n",
       "       7996, 9642, 7157, 8649, 5683, 9840, 6868, 4502, 1599, 2306, 6117,\n",
       "       1181, 8877, 5079, 6868, 6331, 5690, 3657,  136, 7157, 5913,  323,\n",
       "       6868, 5079,  277, 6979, 4663, 8769, 5617, 3739, 2084, 9105, 8391,\n",
       "       2306, 2288,  479, 3816, 2555,  144, 8974, 9840, 8036, 3550, 7031,\n",
       "       1061, 2786, 2502, 9764, 6247, 5596, 2502, 5617, 2306, 1203, 1608,\n",
       "       3816, 7911, 2942, 5074, 2405, 1392, 6282, 8667, 4683, 7044, 2417,\n",
       "       2265, 2447, 3663, 2709, 4159, 7162, 2204, 2161, 7031, 2306, 7925,\n",
       "       4159, 7563, 3901, 4844, 2709, 5514, 5079, 6331, 2204, 5684, 8107,\n",
       "       2859, 7100, 2709, 2689, 2648,  297, 6844, 9793, 6331, 2204,  479,\n",
       "        610, 9105, 2709, 2689, 2648, 9793, 5770, 4344, 2002, 2918, 6844,\n",
       "       1599, 2306, 5074, 9104, 2519, 4815, 4410, 2050, 7708, 1608, 5783,\n",
       "       1923, 2306, 2619, 6844,  610, 5716, 9767, 5133,  440, 6615, 9840,\n",
       "       8790, 2306, 8038, 6989, 4815, 2709, 6702, 5079, 7803, 2265, 4159,\n",
       "       9104,  805, 7100, 3816, 6485, 2075, 6320, 6331, 8628, 3902, 1247,\n",
       "       2204, 2306,  479, 4039, 5684, 5406, 4692, 7605, 2161, 3777, 3445,\n",
       "       2016, 5521, 1979, 5514, 6871, 6868, 5521, 1979, 6871, 6331, 6672,\n",
       "       8772, 1894, 8370, 9052, 6871, 6842, 2306, 1590, 5667, 3777, 1530,\n",
       "       6624, 6392, 2139, 7121, 2846, 5578, 8797, 6758, 5514, 2326,  685,\n",
       "       2689, 2648, 9767, 4849, 2556, 6615, 2245, 1613, 1400, 5351, 5079,\n",
       "       7913, 2846, 2306, 1683, 3446, 3229,  479, 7898, 2353, 8292, 1487,\n",
       "       8296, 2031,  927, 6058, 1438, 9372, 5758, 9543, 6445, 4255,  927,\n",
       "       7140,  479, 3663, 2312, 5086, 7460, 8325, 2306, 6614, 3042, 9668,\n",
       "       3962, 5406, 1441, 5913, 1011, 1799, 3663, 8857,  479, 3077,  862,\n",
       "       2873, 6645, 7454, 8403, 6392, 2411, 6392, 2556, 2408, 9026, 8879,\n",
       "       6057, 9994, 2591, 7889, 5548, 2256, 5406, 2648, 9064, 7708, 3712,\n",
       "       2855, 5406, 9064, 7708, 6645, 6603, 8890,  443, 7365, 9877,  301,\n",
       "        417, 5977, 8144, 9052, 4670, 1319, 8438, 2786, 4957, 2161, 5079,\n",
       "       2075, 6320,  443, 9229, 2744, 1479, 7100, 3090, 3838, 4994, 6925,\n",
       "       8065, 6392, 8073, 6781, 3838], dtype=int32)"
      ]
     },
     "execution_count": 19,
     "metadata": {},
     "output_type": "execute_result"
    }
   ],
   "source": [
    "padded_train[0]"
   ]
  },
  {
   "cell_type": "markdown",
   "id": "designed-cosmetic",
   "metadata": {
    "papermill": {
     "duration": 0.088517,
     "end_time": "2021-05-05T14:03:42.907740",
     "exception": false,
     "start_time": "2021-05-05T14:03:42.819223",
     "status": "completed"
    },
    "tags": []
   },
   "source": [
    "<span style=\"color:Olive; font-size:15px;\">\n",
    "But in test_data, we cannot see any zeros. This is because the length of this text is already greater than mentioned text_length= 500. So instead it's length have been truncated to make it equal 500.\n",
    "</span>"
   ]
  },
  {
   "cell_type": "code",
   "execution_count": 20,
   "id": "labeled-snapshot",
   "metadata": {
    "execution": {
     "iopub.execute_input": "2021-05-05T14:03:43.079563Z",
     "iopub.status.busy": "2021-05-05T14:03:43.078640Z",
     "iopub.status.idle": "2021-05-05T14:03:43.085232Z",
     "shell.execute_reply": "2021-05-05T14:03:43.085900Z"
    },
    "papermill": {
     "duration": 0.09432,
     "end_time": "2021-05-05T14:03:43.086130",
     "exception": false,
     "start_time": "2021-05-05T14:03:42.991810",
     "status": "completed"
    },
    "tags": []
   },
   "outputs": [
    {
     "data": {
      "text/plain": [
       "array([5681, 8568, 4941, 3362,  167, 1168, 7385, 5028,  440, 3810, 2712,\n",
       "       1689, 4916, 5821, 4039, 2325, 3373, 9954,  440, 5847, 6844, 2556,\n",
       "       1157, 4663,  988,  757,  782, 3810, 2712, 3988, 1657, 2519, 3657,\n",
       "       2739, 7768, 2325, 4738, 7881, 3810,  963, 6094,  501,   87, 9764,\n",
       "       5010, 8709, 4456, 6861, 3810,  963, 8053, 3657,  767, 1720, 3810,\n",
       "       2712, 5950, 7768, 6842, 2601, 4966, 6862, 2161, 9372, 8036, 4726,\n",
       "       1017, 1415, 5660, 4039, 6289, 2904, 4966, 1572, 3810, 2712, 8864,\n",
       "       6765, 7157, 7121, 1444, 2709, 5083, 1157, 8237, 9598, 5514, 3373,\n",
       "       9954, 6380, 2325, 4966, 6862, 1979, 4551, 7890,  494, 5879, 2290,\n",
       "       9709,  494, 6989, 5684, 1289, 5880, 4599, 6344, 1508, 3665, 8313,\n",
       "        610, 3651, 6216, 9372, 2160, 4763, 6868, 7650,  173, 2014, 3810,\n",
       "       7900, 4852,  396, 2210, 4490, 5684, 2637, 7401, 9050, 2096, 1083,\n",
       "       6227, 5059, 1021,  440, 7650,  963, 4966, 9153, 2739,  442, 1590,\n",
       "       5740, 4794, 7768, 2035, 3810, 7900, 3657, 1893,  530, 7650, 5947,\n",
       "       3810, 6868, 9372, 8036, 4726, 1017, 8767,  995, 2021, 4683, 7001,\n",
       "       4941, 9764, 7878, 3810, 7900, 8325, 5821, 4039, 8325, 2096, 3584,\n",
       "       9602, 2096, 6236, 7650, 4083, 1590, 7803, 6485, 1574, 7552, 2393,\n",
       "       4994, 7650, 4039, 2325, 1806, 2709, 4966,  459, 4490, 5684, 3655,\n",
       "       4456, 5667, 2014, 2096, 5083, 8053, 9280, 4697, 3810, 7900, 6842,\n",
       "       2220, 2161, 3810,  963,  494, 7001, 9152, 2083, 9153, 4916,  144,\n",
       "       3145,  167, 1168, 8107, 6142, 9124, 6011,  494, 4916, 3240, 6195,\n",
       "       2709, 3240, 9124, 6011, 3762,  374, 5235, 9153, 4916, 8958, 6871,\n",
       "       3461, 8857, 6344, 4351, 5596, 5239, 3810, 7900,  660,  413,  167,\n",
       "       1168, 1976, 5667, 1387, 5968, 5433, 4869, 3134, 9800, 2649, 6950,\n",
       "       5627, 7519,  862, 6380, 2707, 1730, 1485, 1018, 3445, 1360, 7121,\n",
       "       2846, 4014, 7900,  304, 5083, 2023,  963,  304, 6765, 5681, 5514,\n",
       "        167, 1168, 7911, 3810,  963, 3035, 9224,  304, 9221, 2537, 4527,\n",
       "       2014,  782, 3810, 7900, 6344, 1508, 3665, 1982, 7953, 6344,  577,\n",
       "       8835, 6914, 6503, 8973,  182,  865, 5821,  167, 1168,  440, 3697,\n",
       "       3834, 2635, 4966,  494, 7001, 2161, 6373, 5879, 6903, 7691, 6405,\n",
       "        494, 7814, 1275, 8756, 1518, 1275, 2096, 3810, 6651, 7650, 2570,\n",
       "       2712, 9653, 8120, 9783, 6656, 4558, 4994, 1142, 6805,  440, 3871,\n",
       "       7987, 2161, 4224, 8625,  440, 6011,  126, 7851, 2393, 7584,  244,\n",
       "       2992, 1997, 2447, 4994, 4255, 3810, 7851, 7768, 7881, 5383, 1450,\n",
       "       7127, 3810, 7900, 7806, 7881, 4490, 3257, 7650, 9064, 8374, 8827,\n",
       "       7707, 5180, 3810, 7851, 7563, 2075, 6351, 2223, 6297, 9071, 6910,\n",
       "       2854, 1142, 2035, 2739, 3584, 4410, 8558, 6206, 1203, 6616, 2846,\n",
       "       2330, 9627, 3445, 5684, 1242,  244, 2992, 9767,   94,  669, 3810,\n",
       "       7851, 4709, 2210, 7826, 4994, 5083, 2023, 1275,  782,  900,  611,\n",
       "       7650, 3562, 2036, 6344, 4351, 7234,  304, 1767,  494, 1997, 4039,\n",
       "       7230, 4966, 2035, 6929, 6081, 3665, 9673, 9598, 6281, 4676, 6728,\n",
       "       1655, 1054,  782, 8681, 9920, 6344, 3665, 7888, 1846, 5239, 5278,\n",
       "       7910, 7127, 9673, 4918,  895, 8160, 5212, 4133, 4354, 9782, 6297,\n",
       "        735, 1139, 3098, 7825, 5083, 8053, 3819,  227, 2479, 3819, 9415,\n",
       "       1518, 5481, 7650, 1945, 9862, 7888, 6344, 4351,  895, 3101, 6297,\n",
       "       5896, 2035, 1360, 1011, 6436], dtype=int32)"
      ]
     },
     "execution_count": 20,
     "metadata": {},
     "output_type": "execute_result"
    }
   ],
   "source": [
    "padded_test[0]"
   ]
  },
  {
   "cell_type": "markdown",
   "id": "coated-coordinate",
   "metadata": {
    "papermill": {
     "duration": 0.070491,
     "end_time": "2021-05-05T14:03:43.234051",
     "exception": false,
     "start_time": "2021-05-05T14:03:43.163560",
     "status": "completed"
    },
    "tags": []
   },
   "source": [
    "<span style=\"font-family:luxury; color:Black; font-size:30px;\">Creating Feature and Target for train_data</span>"
   ]
  },
  {
   "cell_type": "code",
   "execution_count": 21,
   "id": "handmade-south",
   "metadata": {
    "execution": {
     "iopub.execute_input": "2021-05-05T14:03:43.378664Z",
     "iopub.status.busy": "2021-05-05T14:03:43.377736Z",
     "iopub.status.idle": "2021-05-05T14:03:43.394042Z",
     "shell.execute_reply": "2021-05-05T14:03:43.395282Z"
    },
    "papermill": {
     "duration": 0.101872,
     "end_time": "2021-05-05T14:03:43.395534",
     "exception": false,
     "start_time": "2021-05-05T14:03:43.293662",
     "status": "completed"
    },
    "tags": []
   },
   "outputs": [],
   "source": [
    "import numpy as np\n",
    "feature= np.array(padded_train)\n",
    "target= np.array(train[\"label\"])"
   ]
  },
  {
   "cell_type": "code",
   "execution_count": 22,
   "id": "affected-guidance",
   "metadata": {
    "execution": {
     "iopub.execute_input": "2021-05-05T14:03:43.560727Z",
     "iopub.status.busy": "2021-05-05T14:03:43.557293Z",
     "iopub.status.idle": "2021-05-05T14:03:43.568611Z",
     "shell.execute_reply": "2021-05-05T14:03:43.565545Z"
    },
    "papermill": {
     "duration": 0.101334,
     "end_time": "2021-05-05T14:03:43.569129",
     "exception": false,
     "start_time": "2021-05-05T14:03:43.467795",
     "status": "completed"
    },
    "tags": []
   },
   "outputs": [
    {
     "name": "stdout",
     "output_type": "stream",
     "text": [
      "shape of feature (20800, 500)\n"
     ]
    },
    {
     "data": {
      "text/plain": [
       "array([[   0,    0,    0, ..., 8073, 6781, 3838],\n",
       "       [   0,    0,    0, ..., 4224, 2347, 7171],\n",
       "       [1383, 6253, 6695, ..., 9415, 7727, 1288],\n",
       "       ...,\n",
       "       [   0,    0,    0, ...,  701, 5026, 7806],\n",
       "       [   0,    0,    0, ..., 1836, 7667, 1651],\n",
       "       [2786, 7001, 9492, ..., 7783, 1548, 7768]], dtype=int32)"
      ]
     },
     "execution_count": 22,
     "metadata": {},
     "output_type": "execute_result"
    }
   ],
   "source": [
    "print(\"shape of feature\", feature.shape)\n",
    "feature"
   ]
  },
  {
   "cell_type": "code",
   "execution_count": 23,
   "id": "strategic-minute",
   "metadata": {
    "execution": {
     "iopub.execute_input": "2021-05-05T14:03:43.678592Z",
     "iopub.status.busy": "2021-05-05T14:03:43.677635Z",
     "iopub.status.idle": "2021-05-05T14:03:43.684056Z",
     "shell.execute_reply": "2021-05-05T14:03:43.683507Z"
    },
    "papermill": {
     "duration": 0.062978,
     "end_time": "2021-05-05T14:03:43.684207",
     "exception": false,
     "start_time": "2021-05-05T14:03:43.621229",
     "status": "completed"
    },
    "tags": []
   },
   "outputs": [
    {
     "name": "stdout",
     "output_type": "stream",
     "text": [
      "shape of target (20800,)\n"
     ]
    },
    {
     "data": {
      "text/plain": [
       "array([1, 0, 1, ..., 0, 1, 1])"
      ]
     },
     "execution_count": 23,
     "metadata": {},
     "output_type": "execute_result"
    }
   ],
   "source": [
    "print(\"shape of target\", target.shape)\n",
    "target"
   ]
  },
  {
   "cell_type": "markdown",
   "id": "oriented-queens",
   "metadata": {
    "papermill": {
     "duration": 0.048461,
     "end_time": "2021-05-05T14:03:43.782568",
     "exception": false,
     "start_time": "2021-05-05T14:03:43.734107",
     "status": "completed"
    },
    "tags": []
   },
   "source": [
    "<span style=\"color:Black; font-size:15px;\">\n",
    "Since the test data doesn't have \"label\" column in it, so we need to create a validation data from train_data for training purpose.\n",
    "</span>"
   ]
  },
  {
   "cell_type": "markdown",
   "id": "excellent-single",
   "metadata": {
    "papermill": {
     "duration": 0.048862,
     "end_time": "2021-05-05T14:03:43.881333",
     "exception": false,
     "start_time": "2021-05-05T14:03:43.832471",
     "status": "completed"
    },
    "tags": []
   },
   "source": [
    "<span style=\"font-family:luxury; color:Black; font-size:25px;\">Splitting train_data into train and validation set</span>"
   ]
  },
  {
   "cell_type": "code",
   "execution_count": 24,
   "id": "characteristic-earth",
   "metadata": {
    "execution": {
     "iopub.execute_input": "2021-05-05T14:03:43.988843Z",
     "iopub.status.busy": "2021-05-05T14:03:43.987537Z",
     "iopub.status.idle": "2021-05-05T14:03:44.010309Z",
     "shell.execute_reply": "2021-05-05T14:03:44.009645Z"
    },
    "papermill": {
     "duration": 0.079284,
     "end_time": "2021-05-05T14:03:44.010471",
     "exception": false,
     "start_time": "2021-05-05T14:03:43.931187",
     "status": "completed"
    },
    "tags": []
   },
   "outputs": [],
   "source": [
    "from sklearn.model_selection import train_test_split\n",
    "x_train, x_val, y_train, y_val = train_test_split(feature, target, test_size=0.2, random_state=10)"
   ]
  },
  {
   "cell_type": "markdown",
   "id": "affected-respect",
   "metadata": {
    "papermill": {
     "duration": 0.050007,
     "end_time": "2021-05-05T14:03:44.111205",
     "exception": false,
     "start_time": "2021-05-05T14:03:44.061198",
     "status": "completed"
    },
    "tags": []
   },
   "source": [
    "<span style=\"font-family:luxury; color:Black; font-size:30px;\">Model Building</span>"
   ]
  },
  {
   "cell_type": "code",
   "execution_count": 25,
   "id": "designed-musician",
   "metadata": {
    "execution": {
     "iopub.execute_input": "2021-05-05T14:03:44.217817Z",
     "iopub.status.busy": "2021-05-05T14:03:44.216983Z",
     "iopub.status.idle": "2021-05-05T14:03:47.475664Z",
     "shell.execute_reply": "2021-05-05T14:03:47.476455Z"
    },
    "papermill": {
     "duration": 3.315713,
     "end_time": "2021-05-05T14:03:47.476725",
     "exception": false,
     "start_time": "2021-05-05T14:03:44.161012",
     "status": "completed"
    },
    "tags": []
   },
   "outputs": [
    {
     "name": "stdout",
     "output_type": "stream",
     "text": [
      "Model: \"sequential\"\n",
      "_________________________________________________________________\n",
      "Layer (type)                 Output Shape              Param #   \n",
      "=================================================================\n",
      "embedding (Embedding)        (None, 500, 30)           300000    \n",
      "_________________________________________________________________\n",
      "dropout (Dropout)            (None, 500, 30)           0         \n",
      "_________________________________________________________________\n",
      "lstm (LSTM)                  (None, 50)                16200     \n",
      "_________________________________________________________________\n",
      "dropout_1 (Dropout)          (None, 50)                0         \n",
      "_________________________________________________________________\n",
      "dense (Dense)                (None, 1)                 51        \n",
      "=================================================================\n",
      "Total params: 316,251\n",
      "Trainable params: 316,251\n",
      "Non-trainable params: 0\n",
      "_________________________________________________________________\n"
     ]
    }
   ],
   "source": [
    "from keras.models import Sequential\n",
    "from keras.layers import Embedding, Dense, Dropout, LSTM\n",
    "\n",
    "# number of features is required to be mentioned in order to convert word into it's vector form \n",
    "embedding_features= 30\n",
    "\n",
    "model= Sequential()\n",
    "# this layer converts padded data into vectors\n",
    "model.add(Embedding(vocab_size, embedding_features, input_length= text_length))\n",
    "model.add(Dropout(0.3))\n",
    "\n",
    "# LSTM layer with 100 neurons\n",
    "model.add(LSTM(units= 50))\n",
    "model.add(Dropout(0.3))\n",
    "\n",
    "# output layer\n",
    "model.add(Dense(units=1, activation=\"sigmoid\"))\n",
    "\n",
    "model.summary()"
   ]
  },
  {
   "cell_type": "markdown",
   "id": "dimensional-verification",
   "metadata": {
    "papermill": {
     "duration": 0.049703,
     "end_time": "2021-05-05T14:03:47.609702",
     "exception": false,
     "start_time": "2021-05-05T14:03:47.559999",
     "status": "completed"
    },
    "tags": []
   },
   "source": [
    "<span style=\"font-family:luxury; color:Black; font-size:30px;\">Model Training</span>"
   ]
  },
  {
   "cell_type": "code",
   "execution_count": 26,
   "id": "disabled-bradley",
   "metadata": {
    "execution": {
     "iopub.execute_input": "2021-05-05T14:03:47.720013Z",
     "iopub.status.busy": "2021-05-05T14:03:47.719106Z",
     "iopub.status.idle": "2021-05-05T14:05:01.977695Z",
     "shell.execute_reply": "2021-05-05T14:05:01.978315Z"
    },
    "papermill": {
     "duration": 74.320176,
     "end_time": "2021-05-05T14:05:01.978518",
     "exception": false,
     "start_time": "2021-05-05T14:03:47.658342",
     "status": "completed"
    },
    "tags": []
   },
   "outputs": [
    {
     "name": "stdout",
     "output_type": "stream",
     "text": [
      "Epoch 1/10\n",
      "167/167 [==============================] - 13s 46ms/step - loss: 0.5358 - accuracy: 0.7370 - val_loss: 0.2224 - val_accuracy: 0.9231\n",
      "Epoch 2/10\n",
      "167/167 [==============================] - 7s 41ms/step - loss: 0.1837 - accuracy: 0.9377 - val_loss: 0.1911 - val_accuracy: 0.9303\n",
      "Epoch 3/10\n",
      "167/167 [==============================] - 7s 41ms/step - loss: 0.1240 - accuracy: 0.9586 - val_loss: 0.1904 - val_accuracy: 0.9269\n",
      "Epoch 4/10\n",
      "167/167 [==============================] - 7s 41ms/step - loss: 0.0987 - accuracy: 0.9699 - val_loss: 0.1837 - val_accuracy: 0.9298\n",
      "Epoch 5/10\n",
      "167/167 [==============================] - 7s 40ms/step - loss: 0.0972 - accuracy: 0.9685 - val_loss: 0.1888 - val_accuracy: 0.9337\n",
      "Epoch 6/10\n",
      "167/167 [==============================] - 7s 40ms/step - loss: 0.0756 - accuracy: 0.9783 - val_loss: 0.2218 - val_accuracy: 0.9308\n",
      "Epoch 7/10\n",
      "167/167 [==============================] - 7s 40ms/step - loss: 0.0546 - accuracy: 0.9821 - val_loss: 0.2164 - val_accuracy: 0.9262\n",
      "Epoch 8/10\n",
      "167/167 [==============================] - 7s 40ms/step - loss: 0.0421 - accuracy: 0.9887 - val_loss: 0.2269 - val_accuracy: 0.9178\n",
      "Epoch 9/10\n",
      "167/167 [==============================] - 7s 45ms/step - loss: 0.0369 - accuracy: 0.9903 - val_loss: 0.2531 - val_accuracy: 0.9312\n",
      "Epoch 10/10\n",
      "167/167 [==============================] - 7s 41ms/step - loss: 0.0298 - accuracy: 0.9918 - val_loss: 0.2557 - val_accuracy: 0.9358\n"
     ]
    }
   ],
   "source": [
    "model.compile(loss= \"binary_crossentropy\", optimizer=\"adam\", metrics=[\"accuracy\"])\n",
    "history= model.fit(x_train, y_train,\n",
    "          validation_data= (x_val, y_val),\n",
    "          batch_size= 100, epochs=10)"
   ]
  },
  {
   "cell_type": "markdown",
   "id": "qualified-treasury",
   "metadata": {
    "papermill": {
     "duration": 0.343986,
     "end_time": "2021-05-05T14:05:02.660807",
     "exception": false,
     "start_time": "2021-05-05T14:05:02.316821",
     "status": "completed"
    },
    "tags": []
   },
   "source": [
    "<span style=\"font-family:luxury; color:Black; font-size:30px;\">Model Evaluation</span>"
   ]
  },
  {
   "cell_type": "code",
   "execution_count": 27,
   "id": "stupid-morning",
   "metadata": {
    "execution": {
     "iopub.execute_input": "2021-05-05T14:05:03.342894Z",
     "iopub.status.busy": "2021-05-05T14:05:03.341970Z",
     "iopub.status.idle": "2021-05-05T14:05:03.345919Z",
     "shell.execute_reply": "2021-05-05T14:05:03.346499Z"
    },
    "papermill": {
     "duration": 0.350684,
     "end_time": "2021-05-05T14:05:03.346650",
     "exception": false,
     "start_time": "2021-05-05T14:05:02.995966",
     "status": "completed"
    },
    "tags": []
   },
   "outputs": [
    {
     "data": {
      "text/plain": [
       "dict_keys(['loss', 'accuracy', 'val_loss', 'val_accuracy'])"
      ]
     },
     "execution_count": 27,
     "metadata": {},
     "output_type": "execute_result"
    }
   ],
   "source": [
    "history.history.keys()"
   ]
  },
  {
   "cell_type": "code",
   "execution_count": 28,
   "id": "vertical-makeup",
   "metadata": {
    "execution": {
     "iopub.execute_input": "2021-05-05T14:05:04.049939Z",
     "iopub.status.busy": "2021-05-05T14:05:04.048764Z",
     "iopub.status.idle": "2021-05-05T14:05:04.437277Z",
     "shell.execute_reply": "2021-05-05T14:05:04.437777Z"
    },
    "papermill": {
     "duration": 0.752952,
     "end_time": "2021-05-05T14:05:04.437982",
     "exception": false,
     "start_time": "2021-05-05T14:05:03.685030",
     "status": "completed"
    },
    "tags": []
   },
   "outputs": [
    {
     "data": {
      "image/png": "[encoded data removed]",
      "text/plain": [
       "<Figure size 432x288 with 1 Axes>"
      ]
     },
     "metadata": {
      "needs_background": "light"
     },
     "output_type": "display_data"
    },
    {
     "data": {
      "image/png": "[encoded data removed]",
      "text/plain": [
       "<Figure size 432x288 with 1 Axes>"
      ]
     },
     "metadata": {
      "needs_background": "light"
     },
     "output_type": "display_data"
    }
   ],
   "source": [
    "import matplotlib.pyplot as plt\n",
    "%matplotlib inline\n",
    "\n",
    "epochs= range(len(history.history[\"accuracy\"]))\n",
    "# accuracy plot\n",
    "plt.plot(epochs, history.history[\"accuracy\"])\n",
    "plt.plot(epochs, history.history[\"val_accuracy\"])\n",
    "plt.xlabel(\"epoch\")\n",
    "plt.ylabel(\"accuracy\")\n",
    "plt.title(\"Accuracy\")\n",
    "plt.legend([\"train_data\", \"validation_data\"])\n",
    "plt.show()\n",
    "\n",
    "# loss plot\n",
    "plt.plot(epochs, history.history[\"loss\"])\n",
    "plt.plot(epochs, history.history[\"val_loss\"])\n",
    "plt.xlabel(\"epoch\")\n",
    "plt.ylabel(\"loss\")\n",
    "plt.title(\"Loss\")\n",
    "plt.legend([\"train_data\", \"validation_data\"])\n",
    "plt.show()"
   ]
  },
  {
   "cell_type": "markdown",
   "id": "saving-cooperative",
   "metadata": {
    "papermill": {
     "duration": 0.332558,
     "end_time": "2021-05-05T14:05:05.113142",
     "exception": false,
     "start_time": "2021-05-05T14:05:04.780584",
     "status": "completed"
    },
    "tags": []
   },
   "source": [
    "<span style=\"font-family:luxury; color:MediumVioletRed; font-size:20px;\">Checking model performance through validation data </span>"
   ]
  },
  {
   "cell_type": "code",
   "execution_count": 29,
   "id": "usual-accountability",
   "metadata": {
    "execution": {
     "iopub.execute_input": "2021-05-05T14:05:05.801269Z",
     "iopub.status.busy": "2021-05-05T14:05:05.799945Z",
     "iopub.status.idle": "2021-05-05T14:05:07.829204Z",
     "shell.execute_reply": "2021-05-05T14:05:07.829731Z"
    },
    "papermill": {
     "duration": 2.378965,
     "end_time": "2021-05-05T14:05:07.829910",
     "exception": false,
     "start_time": "2021-05-05T14:05:05.450945",
     "status": "completed"
    },
    "tags": []
   },
   "outputs": [
    {
     "data": {
      "text/plain": [
       "(<Figure size 360x360 with 1 Axes>,\n",
       " <AxesSubplot:xlabel='predicted label', ylabel='true label'>)"
      ]
     },
     "execution_count": 29,
     "metadata": {},
     "output_type": "execute_result"
    },
    {
     "data": {
      "image/png": "[encoded data removed]",
      "text/plain": [
       "<Figure size 360x360 with 1 Axes>"
      ]
     },
     "metadata": {
      "needs_background": "light"
     },
     "output_type": "display_data"
    }
   ],
   "source": [
    "pred_val= model.predict_classes(x_val)\n",
    "\n",
    "from sklearn.metrics import confusion_matrix\n",
    "from mlxtend.plotting import plot_confusion_matrix\n",
    "\n",
    "cm= confusion_matrix(y_val, pred_val)\n",
    "plot_confusion_matrix(cm, figsize=(5,5))"
   ]
  },
  {
   "cell_type": "markdown",
   "id": "weighted-racing",
   "metadata": {
    "papermill": {
     "duration": 0.345123,
     "end_time": "2021-05-05T14:05:08.525531",
     "exception": false,
     "start_time": "2021-05-05T14:05:08.180408",
     "status": "completed"
    },
    "tags": []
   },
   "source": [
    "<span style=\"font-family:luxury; color:Black; font-size:30px;\">Submission</span>"
   ]
  },
  {
   "cell_type": "code",
   "execution_count": 30,
   "id": "durable-patent",
   "metadata": {
    "execution": {
     "iopub.execute_input": "2021-05-05T14:05:09.221189Z",
     "iopub.status.busy": "2021-05-05T14:05:09.219760Z",
     "iopub.status.idle": "2021-05-05T14:05:11.559931Z",
     "shell.execute_reply": "2021-05-05T14:05:11.558957Z"
    },
    "papermill": {
     "duration": 2.692964,
     "end_time": "2021-05-05T14:05:11.560151",
     "exception": false,
     "start_time": "2021-05-05T14:05:08.867187",
     "status": "completed"
    },
    "tags": []
   },
   "outputs": [],
   "source": [
    "test_array= np.array(padded_test)\n",
    "prediction_test= model.predict_classes(test_array)"
   ]
  },
  {
   "cell_type": "code",
   "execution_count": 31,
   "id": "funded-gossip",
   "metadata": {
    "execution": {
     "iopub.execute_input": "2021-05-05T14:05:12.256544Z",
     "iopub.status.busy": "2021-05-05T14:05:12.255464Z",
     "iopub.status.idle": "2021-05-05T14:05:12.443658Z",
     "shell.execute_reply": "2021-05-05T14:05:12.444292Z"
    },
    "papermill": {
     "duration": 0.542019,
     "end_time": "2021-05-05T14:05:12.444505",
     "exception": false,
     "start_time": "2021-05-05T14:05:11.902486",
     "status": "completed"
    },
    "tags": []
   },
   "outputs": [
    {
     "data": {
      "text/html": [
       "<div>\n",
       "<style scoped>\n",
       "    .dataframe tbody tr th:only-of-type {\n",
       "        vertical-align: middle;\n",
       "    }\n",
       "\n",
       "    .dataframe tbody tr th {\n",
       "        vertical-align: top;\n",
       "    }\n",
       "\n",
       "    .dataframe thead th {\n",
       "        text-align: right;\n",
       "    }\n",
       "</style>\n",
       "<table border=\"1\" class=\"dataframe\">\n",
       "  <thead>\n",
       "    <tr style=\"text-align: right;\">\n",
       "      <th></th>\n",
       "      <th>id</th>\n",
       "      <th>label</th>\n",
       "    </tr>\n",
       "  </thead>\n",
       "  <tbody>\n",
       "    <tr>\n",
       "      <th>0</th>\n",
       "      <td>20800</td>\n",
       "      <td>0</td>\n",
       "    </tr>\n",
       "    <tr>\n",
       "      <th>1</th>\n",
       "      <td>20801</td>\n",
       "      <td>1</td>\n",
       "    </tr>\n",
       "    <tr>\n",
       "      <th>2</th>\n",
       "      <td>20802</td>\n",
       "      <td>1</td>\n",
       "    </tr>\n",
       "    <tr>\n",
       "      <th>3</th>\n",
       "      <td>20803</td>\n",
       "      <td>0</td>\n",
       "    </tr>\n",
       "    <tr>\n",
       "      <th>4</th>\n",
       "      <td>20804</td>\n",
       "      <td>1</td>\n",
       "    </tr>\n",
       "  </tbody>\n",
       "</table>\n",
       "</div>"
      ],
      "text/plain": [
       "      id  label\n",
       "0  20800      0\n",
       "1  20801      1\n",
       "2  20802      1\n",
       "3  20803      0\n",
       "4  20804      1"
      ]
     },
     "execution_count": 31,
     "metadata": {},
     "output_type": "execute_result"
    }
   ],
   "source": [
    "submission= pd.DataFrame()\n",
    "submission[\"id\"]= test[\"id\"]\n",
    "submission[\"label\"]= prediction_test\n",
    "submission.to_csv(\"LSTM_model.csv\", index=False)\n",
    "submission.head()"
   ]
  },
  {
   "cell_type": "code",
   "execution_count": null,
   "id": "spanish-witness",
   "metadata": {
    "papermill": {
     "duration": 0.356748,
     "end_time": "2021-05-05T14:05:13.160160",
     "exception": false,
     "start_time": "2021-05-05T14:05:12.803412",
     "status": "completed"
    },
    "tags": []
   },
   "outputs": [],
   "source": []
  }
 ],
 "metadata": {
  "kernelspec": {
   "display_name": "Python 3 (ipykernel)",
   "language": "python",
   "name": "python3"
  },
  "language_info": {
   "codemirror_mode": {
    "name": "ipython",
    "version": 3
   },
   "file_extension": ".py",
   "mimetype": "text/x-python",
   "name": "python",
   "nbconvert_exporter": "python",
   "pygments_lexer": "ipython3",
   "version": "3.9.7"
  },
  "papermill": {
   "default_parameters": {},
   "duration": 3833.558263,
   "end_time": "2021-05-05T14:05:17.712162",
   "environment_variables": {},
   "exception": null,
   "input_path": "__notebook__.ipynb",
   "output_path": "__notebook__.ipynb",
   "parameters": {},
   "start_time": "2021-05-05T13:01:24.153899",
   "version": "2.3.3"
  }
 },
 "nbformat": 4,
 "nbformat_minor": 5
}
