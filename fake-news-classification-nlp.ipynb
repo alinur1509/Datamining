{
 "cells": [
  {
   "cell_type": "markdown",
   "id": "aware-companion",
   "metadata": {
    "papermill": {
     "duration": 0.027991,
     "end_time": "2021-06-19T13:00:17.314915",
     "exception": false,
     "start_time": "2021-06-19T13:00:17.286924",
     "status": "completed"
    },
    "tags": []
   },
   "source": [
    "<p style = \"font-size : 50px; color :  #000000 ; font-family : 'Comic Sans MS'; text-align : center; background-color :#FFFF00 ; border-radius: 5px 5px;\"><strong>Fake News 📰 Classification - NLP</strong></p> \n",
    "\n"
   ]
  },
  {
   "cell_type": "markdown",
   "id": "tropical-validity",
   "metadata": {
    "papermill": {
     "duration": 0.026415,
     "end_time": "2021-06-19T13:00:17.368292",
     "exception": false,
     "start_time": "2021-06-19T13:00:17.341877",
     "status": "completed"
    },
    "tags": []
   },
   "source": [
    "<img style=\"float: center;  border:5px solid #DC143C; width:75%\" src = https://miro.medium.com/max/1320/1*VIEVy548fut8IJotJlQKSQ.jpeg>"
   ]
  },
  {
   "cell_type": "markdown",
   "id": "instructional-venezuela",
   "metadata": {
    "papermill": {
     "duration": 0.02696,
     "end_time": "2021-06-19T13:00:17.422009",
     "exception": false,
     "start_time": "2021-06-19T13:00:17.395049",
     "status": "completed"
    },
    "tags": []
   },
   "source": [
    "<p style = \"font-size : 35px; color :#000080 ; font-family : 'Comic Sans MS'; text-align : center; background-color : #808080; border-radius: 5px 5px;\"><strong>Introduction</strong></p>\n",
    "\n",
    "\n",
    "<p style = \"font-size : 25px; color : #800000 ; font-family : 'Comic Sans MS';  \"><strong></strong>In the following analysis, we will talk about how one can create an NLP to detect whether the news is real or fake. Nowadays, fake news has become a common trend. Even trusted media houses are known to spread fake news and are losing their credibility. So, how can we trust any news to be real or fake?</p>\n"
   ]
  },
  {
   "cell_type": "markdown",
   "id": "going-costs",
   "metadata": {
    "papermill": {
     "duration": 0.026561,
     "end_time": "2021-06-19T13:00:17.475184",
     "exception": false,
     "start_time": "2021-06-19T13:00:17.448623",
     "status": "completed"
    },
    "tags": []
   },
   "source": [
    "\n",
    "<p style = \"font-size : 35px; color :#000080 ; font-family : 'Comic Sans MS'; text-align : center; background-color : #808080; border-radius: 5px 5px;\"><strong>Dataset</strong></p>\n",
    "\n",
    "<p style = \"font-size : 25px; color : #800000 ; font-family : 'Comic Sans MS';  \"><strong></strong>1. train.csv: A full training dataset with the following attributes:</p>\n",
    "<p style = \"font-size : 25px; color : #800000 ; font-family : 'Comic Sans MS';  \"><strong></strong>2. id: unique id for a news article.</p>\n",
    "<p style = \"font-size : 25px; color : #800000 ; font-family : 'Comic Sans MS';  \"><strong></strong>3. title: the title of a news article.</p>\n",
    "<p style = \"font-size : 25px; color : #800000 ; font-family : 'Comic Sans MS';  \"><strong></strong>4. author: author of the news article.</p>\n",
    "<p style = \"font-size : 25px; color : #800000 ; font-family : 'Comic Sans MS';  \"><strong></strong>5. text: the text of the article; could be incomplete.</p>\n",
    "<p style = \"font-size : 25px; color : #800000 ; font-family : 'Comic Sans MS';  \"><strong></strong>6. label: a label that marks the article as potentially unreliable. Where 1: unreliable and 0: reliable.</p>\n",
    "\n",
    "\n"
   ]
  },
  {
   "cell_type": "code",
   "execution_count": 1,
   "id": "invalid-branch",
   "metadata": {
    "_cell_guid": "b1076dfc-b9ad-4769-8c92-a6c4dae69d19",
    "_kg_hide-input": true,
    "_kg_hide-output": true,
    "_uuid": "8f2839f25d086af736a60e9eeb907d3b93b6e0e5",
    "execution": {
     "iopub.execute_input": "2021-06-19T13:00:17.541726Z",
     "iopub.status.busy": "2021-06-19T13:00:17.539777Z",
     "iopub.status.idle": "2021-06-19T13:00:17.545239Z",
     "shell.execute_reply": "2021-06-19T13:00:17.545789Z",
     "shell.execute_reply.started": "2021-05-22T14:29:37.398146Z"
    },
    "papermill": {
     "duration": 0.044187,
     "end_time": "2021-06-19T13:00:17.546059",
     "exception": false,
     "start_time": "2021-06-19T13:00:17.501872",
     "status": "completed"
    },
    "tags": []
   },
   "outputs": [
    {
     "name": "stdout",
     "output_type": "stream",
     "text": [
      "/kaggle/input/fake-news/submit.csv\n",
      "/kaggle/input/fake-news/train.csv\n",
      "/kaggle/input/fake-news/test.csv\n"
     ]
    }
   ],
   "source": [
    "# This Python 3 environment comes with many helpful analytics libraries installed\n",
    "# It is defined by the kaggle/python Docker image: https://github.com/kaggle/docker-python\n",
    "# For example, here's several helpful packages to load\n",
    "\n",
    "import numpy as np # linear algebra\n",
    "import pandas as pd # data processing, CSV file I/O (e.g. pd.read_csv)\n",
    "\n",
    "# Input data files are available in the read-only \"../input/\" directory\n",
    "# For example, running this (by clicking run or pressing Shift+Enter) will list all files under the input directory\n",
    "\n",
    "import os\n",
    "for dirname, _, filenames in os.walk('/kaggle/input'):\n",
    "    for filename in filenames:\n",
    "        print(os.path.join(dirname, filename))\n",
    "\n",
    "# You can write up to 20GB to the current directory (/kaggle/working/) that gets preserved as output when you create a version using \"Save & Run All\" \n",
    "# You can also write temporary files to /kaggle/temp/, but they won't be saved outside of the current session\n",
    "# Ignore warning messages\n",
    "def warn(*args, **kwargs):\n",
    "    pass\n",
    "import warnings\n",
    "warnings.warn = warn"
   ]
  },
  {
   "cell_type": "markdown",
   "id": "noticed-collins",
   "metadata": {
    "papermill": {
     "duration": 0.026938,
     "end_time": "2021-06-19T13:00:17.601220",
     "exception": false,
     "start_time": "2021-06-19T13:00:17.574282",
     "status": "completed"
    },
    "tags": []
   },
   "source": [
    "<p style = \"font-size : 35px; color :#000080 ; font-family : 'Comic Sans MS'; text-align : center; background-color : #808080; border-radius: 5px 5px;\"><strong>Importing Libraries</strong></p>"
   ]
  },
  {
   "cell_type": "code",
   "execution_count": 2,
   "id": "electric-contributor",
   "metadata": {
    "execution": {
     "iopub.execute_input": "2021-06-19T13:00:17.659721Z",
     "iopub.status.busy": "2021-06-19T13:00:17.659063Z",
     "iopub.status.idle": "2021-06-19T13:00:18.522156Z",
     "shell.execute_reply": "2021-06-19T13:00:18.523304Z",
     "shell.execute_reply.started": "2021-05-22T14:29:37.422823Z"
    },
    "papermill": {
     "duration": 0.895441,
     "end_time": "2021-06-19T13:00:18.523527",
     "exception": false,
     "start_time": "2021-06-19T13:00:17.628086",
     "status": "completed"
    },
    "tags": []
   },
   "outputs": [],
   "source": [
    "# Modelling Algorithms\n",
    "from sklearn.naive_bayes import MultinomialNB\n",
    "from sklearn.linear_model import LogisticRegression\n",
    "from sklearn.linear_model import PassiveAggressiveClassifier\n",
    "\n",
    "# Modelling Helpers\n",
    "from sklearn.model_selection import train_test_split\n",
    "from sklearn.feature_extraction.text import TfidfVectorizer\n",
    "from sklearn.feature_extraction.text import CountVectorizer\n",
    "from sklearn import metrics\n",
    "\n",
    "# Computations\n",
    "import itertools\n",
    "\n",
    "# Visualization\n",
    "import matplotlib.pyplot as plt"
   ]
  },
  {
   "cell_type": "markdown",
   "id": "processed-archive",
   "metadata": {
    "papermill": {
     "duration": 0.028029,
     "end_time": "2021-06-19T13:00:18.597824",
     "exception": false,
     "start_time": "2021-06-19T13:00:18.569795",
     "status": "completed"
    },
    "tags": []
   },
   "source": [
    "<p style = \"font-size : 35px; color :#000080 ; font-family : 'Comic Sans MS'; text-align : center; background-color : #808080; border-radius: 5px 5px;\"><strong>Loading Dataset</strong></p>"
   ]
  },
  {
   "cell_type": "code",
   "execution_count": 3,
   "id": "geographic-parts",
   "metadata": {
    "execution": {
     "iopub.execute_input": "2021-06-19T13:00:18.660722Z",
     "iopub.status.busy": "2021-06-19T13:00:18.660190Z",
     "iopub.status.idle": "2021-06-19T13:00:21.215847Z",
     "shell.execute_reply": "2021-06-19T13:00:21.215315Z",
     "shell.execute_reply.started": "2021-05-22T14:29:38.618806Z"
    },
    "papermill": {
     "duration": 2.5901,
     "end_time": "2021-06-19T13:00:21.215987",
     "exception": false,
     "start_time": "2021-06-19T13:00:18.625887",
     "status": "completed"
    },
    "tags": []
   },
   "outputs": [],
   "source": [
    "train = pd.read_csv(\"../input/fake-news/train.csv\")\n",
    "test  = pd.read_csv (\"../input/fake-news/test.csv\")\n",
    "submit  = pd.read_csv (\"../input/fake-news/submit.csv\")"
   ]
  },
  {
   "cell_type": "code",
   "execution_count": 4,
   "id": "documented-trail",
   "metadata": {
    "execution": {
     "iopub.execute_input": "2021-06-19T13:00:21.285128Z",
     "iopub.status.busy": "2021-06-19T13:00:21.284556Z",
     "iopub.status.idle": "2021-06-19T13:00:21.293441Z",
     "shell.execute_reply": "2021-06-19T13:00:21.293856Z",
     "shell.execute_reply.started": "2021-05-22T14:29:40.704343Z"
    },
    "papermill": {
     "duration": 0.050158,
     "end_time": "2021-06-19T13:00:21.293985",
     "exception": false,
     "start_time": "2021-06-19T13:00:21.243827",
     "status": "completed"
    },
    "tags": []
   },
   "outputs": [
    {
     "data": {
      "text/html": [
       "<div>\n",
       "<style scoped>\n",
       "    .dataframe tbody tr th:only-of-type {\n",
       "        vertical-align: middle;\n",
       "    }\n",
       "\n",
       "    .dataframe tbody tr th {\n",
       "        vertical-align: top;\n",
       "    }\n",
       "\n",
       "    .dataframe thead th {\n",
       "        text-align: right;\n",
       "    }\n",
       "</style>\n",
       "<table border=\"1\" class=\"dataframe\">\n",
       "  <thead>\n",
       "    <tr style=\"text-align: right;\">\n",
       "      <th></th>\n",
       "      <th>id</th>\n",
       "      <th>title</th>\n",
       "      <th>author</th>\n",
       "      <th>text</th>\n",
       "      <th>label</th>\n",
       "    </tr>\n",
       "  </thead>\n",
       "  <tbody>\n",
       "    <tr>\n",
       "      <th>0</th>\n",
       "      <td>0</td>\n",
       "      <td>House Dem Aide: We Didn’t Even See Comey’s Let...</td>\n",
       "      <td>Darrell Lucus</td>\n",
       "      <td>House Dem Aide: We Didn’t Even See Comey’s Let...</td>\n",
       "      <td>1</td>\n",
       "    </tr>\n",
       "    <tr>\n",
       "      <th>1</th>\n",
       "      <td>1</td>\n",
       "      <td>FLYNN: Hillary Clinton, Big Woman on Campus - ...</td>\n",
       "      <td>Daniel J. Flynn</td>\n",
       "      <td>Ever get the feeling your life circles the rou...</td>\n",
       "      <td>0</td>\n",
       "    </tr>\n",
       "    <tr>\n",
       "      <th>2</th>\n",
       "      <td>2</td>\n",
       "      <td>Why the Truth Might Get You Fired</td>\n",
       "      <td>Consortiumnews.com</td>\n",
       "      <td>Why the Truth Might Get You Fired October 29, ...</td>\n",
       "      <td>1</td>\n",
       "    </tr>\n",
       "    <tr>\n",
       "      <th>3</th>\n",
       "      <td>3</td>\n",
       "      <td>15 Civilians Killed In Single US Airstrike Hav...</td>\n",
       "      <td>Jessica Purkiss</td>\n",
       "      <td>Videos 15 Civilians Killed In Single US Airstr...</td>\n",
       "      <td>1</td>\n",
       "    </tr>\n",
       "    <tr>\n",
       "      <th>4</th>\n",
       "      <td>4</td>\n",
       "      <td>Iranian woman jailed for fictional unpublished...</td>\n",
       "      <td>Howard Portnoy</td>\n",
       "      <td>Print \\nAn Iranian woman has been sentenced to...</td>\n",
       "      <td>1</td>\n",
       "    </tr>\n",
       "  </tbody>\n",
       "</table>\n",
       "</div>"
      ],
      "text/plain": [
       "   id                                              title              author  \\\n",
       "0   0  House Dem Aide: We Didn’t Even See Comey’s Let...       Darrell Lucus   \n",
       "1   1  FLYNN: Hillary Clinton, Big Woman on Campus - ...     Daniel J. Flynn   \n",
       "2   2                  Why the Truth Might Get You Fired  Consortiumnews.com   \n",
       "3   3  15 Civilians Killed In Single US Airstrike Hav...     Jessica Purkiss   \n",
       "4   4  Iranian woman jailed for fictional unpublished...      Howard Portnoy   \n",
       "\n",
       "                                                text  label  \n",
       "0  House Dem Aide: We Didn’t Even See Comey’s Let...      1  \n",
       "1  Ever get the feeling your life circles the rou...      0  \n",
       "2  Why the Truth Might Get You Fired October 29, ...      1  \n",
       "3  Videos 15 Civilians Killed In Single US Airstr...      1  \n",
       "4  Print \\nAn Iranian woman has been sentenced to...      1  "
      ]
     },
     "execution_count": 4,
     "metadata": {},
     "output_type": "execute_result"
    }
   ],
   "source": [
    "train.head()"
   ]
  },
  {
   "cell_type": "code",
   "execution_count": 5,
   "id": "likely-scanner",
   "metadata": {
    "execution": {
     "iopub.execute_input": "2021-06-19T13:00:21.352981Z",
     "iopub.status.busy": "2021-06-19T13:00:21.352232Z",
     "iopub.status.idle": "2021-06-19T13:00:21.356779Z",
     "shell.execute_reply": "2021-06-19T13:00:21.357435Z",
     "shell.execute_reply.started": "2021-05-22T14:29:40.737846Z"
    },
    "papermill": {
     "duration": 0.036172,
     "end_time": "2021-06-19T13:00:21.357626",
     "exception": false,
     "start_time": "2021-06-19T13:00:21.321454",
     "status": "completed"
    },
    "tags": []
   },
   "outputs": [
    {
     "name": "stdout",
     "output_type": "stream",
     "text": [
      "Train Shape : (20800, 5)\n",
      "Test Shape : (5200, 4)\n",
      "Submit Shape : (5200, 2)\n"
     ]
    }
   ],
   "source": [
    "print(f\"Train Shape : {train.shape}\")\n",
    "print(f\"Test Shape : {test.shape}\")\n",
    "print(f\"Submit Shape : {submit.shape}\")"
   ]
  },
  {
   "cell_type": "markdown",
   "id": "superior-vertex",
   "metadata": {
    "papermill": {
     "duration": 0.027378,
     "end_time": "2021-06-19T13:00:21.412618",
     "exception": false,
     "start_time": "2021-06-19T13:00:21.385240",
     "status": "completed"
    },
    "tags": []
   },
   "source": [
    "<p style = \"font-size : 35px; color :#000080 ; font-family : 'Comic Sans MS'; text-align : center; background-color : #808080; border-radius: 5px 5px;\"><strong>Data Preprocessing</strong></p>"
   ]
  },
  {
   "cell_type": "code",
   "execution_count": 6,
   "id": "random-metro",
   "metadata": {
    "execution": {
     "iopub.execute_input": "2021-06-19T13:00:21.482850Z",
     "iopub.status.busy": "2021-06-19T13:00:21.482134Z",
     "iopub.status.idle": "2021-06-19T13:00:21.494132Z",
     "shell.execute_reply": "2021-06-19T13:00:21.493674Z",
     "shell.execute_reply.started": "2021-05-22T14:29:40.750225Z"
    },
    "papermill": {
     "duration": 0.052104,
     "end_time": "2021-06-19T13:00:21.494278",
     "exception": false,
     "start_time": "2021-06-19T13:00:21.442174",
     "status": "completed"
    },
    "tags": []
   },
   "outputs": [
    {
     "name": "stdout",
     "output_type": "stream",
     "text": [
      "<class 'pandas.core.frame.DataFrame'>\n",
      "RangeIndex: 20800 entries, 0 to 20799\n",
      "Data columns (total 5 columns):\n",
      " #   Column  Non-Null Count  Dtype \n",
      "---  ------  --------------  ----- \n",
      " 0   id      20800 non-null  int64 \n",
      " 1   title   20242 non-null  object\n",
      " 2   author  18843 non-null  object\n",
      " 3   text    20761 non-null  object\n",
      " 4   label   20800 non-null  int64 \n",
      "dtypes: int64(2), object(3)\n",
      "memory usage: 812.6+ KB\n"
     ]
    }
   ],
   "source": [
    "train.info()"
   ]
  },
  {
   "cell_type": "code",
   "execution_count": 7,
   "id": "banned-transportation",
   "metadata": {
    "execution": {
     "iopub.execute_input": "2021-06-19T13:00:21.562379Z",
     "iopub.status.busy": "2021-06-19T13:00:21.561634Z",
     "iopub.status.idle": "2021-06-19T13:00:21.566888Z",
     "shell.execute_reply": "2021-06-19T13:00:21.567345Z",
     "shell.execute_reply.started": "2021-05-22T14:29:40.779494Z"
    },
    "papermill": {
     "duration": 0.044593,
     "end_time": "2021-06-19T13:00:21.567485",
     "exception": false,
     "start_time": "2021-06-19T13:00:21.522892",
     "status": "completed"
    },
    "tags": []
   },
   "outputs": [
    {
     "data": {
      "text/plain": [
       "id           0\n",
       "title      558\n",
       "author    1957\n",
       "text        39\n",
       "label        0\n",
       "dtype: int64"
      ]
     },
     "execution_count": 7,
     "metadata": {},
     "output_type": "execute_result"
    }
   ],
   "source": [
    "train.isnull().sum()"
   ]
  },
  {
   "cell_type": "code",
   "execution_count": 8,
   "id": "everyday-suicide",
   "metadata": {
    "execution": {
     "iopub.execute_input": "2021-06-19T13:00:21.634963Z",
     "iopub.status.busy": "2021-06-19T13:00:21.634319Z",
     "iopub.status.idle": "2021-06-19T13:00:21.639002Z",
     "shell.execute_reply": "2021-06-19T13:00:21.638613Z",
     "shell.execute_reply.started": "2021-05-22T14:29:40.799216Z"
    },
    "papermill": {
     "duration": 0.037751,
     "end_time": "2021-06-19T13:00:21.639107",
     "exception": false,
     "start_time": "2021-06-19T13:00:21.601356",
     "status": "completed"
    },
    "tags": []
   },
   "outputs": [
    {
     "data": {
      "text/plain": [
       "object    3\n",
       "int64     2\n",
       "dtype: int64"
      ]
     },
     "execution_count": 8,
     "metadata": {},
     "output_type": "execute_result"
    }
   ],
   "source": [
    "train.dtypes.value_counts()"
   ]
  },
  {
   "cell_type": "markdown",
   "id": "republican-roberts",
   "metadata": {
    "papermill": {
     "duration": 0.031366,
     "end_time": "2021-06-19T13:00:21.699688",
     "exception": false,
     "start_time": "2021-06-19T13:00:21.668322",
     "status": "completed"
    },
    "tags": []
   },
   "source": [
    "<p style = \"font-size : 30px; color : #4e8d7c ; font-family : 'Comic Sans MS';  \"><strong>Handle missing values :-</strong></p>"
   ]
  },
  {
   "cell_type": "markdown",
   "id": "closed-indicator",
   "metadata": {
    "papermill": {
     "duration": 0.028736,
     "end_time": "2021-06-19T13:00:21.758065",
     "exception": false,
     "start_time": "2021-06-19T13:00:21.729329",
     "status": "completed"
    },
    "tags": []
   },
   "source": [
    "<p style = \"font-size : 20px; color : #800000 ; font-family : 'Comic Sans MS';  \"><strong>If model is trained on a concatenation of the title, the author and the main text, the model would be more generalized because adding more words to the input might increase the reliablity of the model.</strong></p>"
   ]
  },
  {
   "cell_type": "code",
   "execution_count": 9,
   "id": "wooden-first",
   "metadata": {
    "execution": {
     "iopub.execute_input": "2021-06-19T13:00:21.822134Z",
     "iopub.status.busy": "2021-06-19T13:00:21.821284Z",
     "iopub.status.idle": "2021-06-19T13:00:21.833915Z",
     "shell.execute_reply": "2021-06-19T13:00:21.833493Z",
     "shell.execute_reply.started": "2021-05-22T14:29:40.808449Z"
    },
    "papermill": {
     "duration": 0.0472,
     "end_time": "2021-06-19T13:00:21.834034",
     "exception": false,
     "start_time": "2021-06-19T13:00:21.786834",
     "status": "completed"
    },
    "tags": []
   },
   "outputs": [],
   "source": [
    "test=test.fillna(' ')\n",
    "train=train.fillna(' ')"
   ]
  },
  {
   "cell_type": "code",
   "execution_count": 10,
   "id": "social-samoa",
   "metadata": {
    "execution": {
     "iopub.execute_input": "2021-06-19T13:00:21.896483Z",
     "iopub.status.busy": "2021-06-19T13:00:21.895686Z",
     "iopub.status.idle": "2021-06-19T13:00:22.082946Z",
     "shell.execute_reply": "2021-06-19T13:00:22.082480Z",
     "shell.execute_reply.started": "2021-05-22T14:29:40.830851Z"
    },
    "papermill": {
     "duration": 0.220695,
     "end_time": "2021-06-19T13:00:22.083075",
     "exception": false,
     "start_time": "2021-06-19T13:00:21.862380",
     "status": "completed"
    },
    "tags": []
   },
   "outputs": [],
   "source": [
    "# Create a column with all the data available\n",
    "test['total']=test['title']+' '+test['author']+' '+test['text']\n",
    "train['total']=train['title']+' '+train['author']+' '+train['text']"
   ]
  },
  {
   "cell_type": "code",
   "execution_count": 11,
   "id": "retired-horror",
   "metadata": {
    "execution": {
     "iopub.execute_input": "2021-06-19T13:00:22.148296Z",
     "iopub.status.busy": "2021-06-19T13:00:22.147384Z",
     "iopub.status.idle": "2021-06-19T13:00:22.176551Z",
     "shell.execute_reply": "2021-06-19T13:00:22.177097Z",
     "shell.execute_reply.started": "2021-05-22T14:29:41.031748Z"
    },
    "papermill": {
     "duration": 0.065328,
     "end_time": "2021-06-19T13:00:22.177273",
     "exception": false,
     "start_time": "2021-06-19T13:00:22.111945",
     "status": "completed"
    },
    "tags": []
   },
   "outputs": [
    {
     "name": "stdout",
     "output_type": "stream",
     "text": [
      "<class 'pandas.core.frame.DataFrame'>\n",
      "RangeIndex: 20800 entries, 0 to 20799\n",
      "Data columns (total 6 columns):\n",
      " #   Column  Non-Null Count  Dtype \n",
      "---  ------  --------------  ----- \n",
      " 0   id      20800 non-null  int64 \n",
      " 1   title   20800 non-null  object\n",
      " 2   author  20800 non-null  object\n",
      " 3   text    20800 non-null  object\n",
      " 4   label   20800 non-null  int64 \n",
      " 5   total   20800 non-null  object\n",
      "dtypes: int64(2), object(4)\n",
      "memory usage: 975.1+ KB\n"
     ]
    },
    {
     "data": {
      "text/html": [
       "<div>\n",
       "<style scoped>\n",
       "    .dataframe tbody tr th:only-of-type {\n",
       "        vertical-align: middle;\n",
       "    }\n",
       "\n",
       "    .dataframe tbody tr th {\n",
       "        vertical-align: top;\n",
       "    }\n",
       "\n",
       "    .dataframe thead th {\n",
       "        text-align: right;\n",
       "    }\n",
       "</style>\n",
       "<table border=\"1\" class=\"dataframe\">\n",
       "  <thead>\n",
       "    <tr style=\"text-align: right;\">\n",
       "      <th></th>\n",
       "      <th>id</th>\n",
       "      <th>title</th>\n",
       "      <th>author</th>\n",
       "      <th>text</th>\n",
       "      <th>label</th>\n",
       "      <th>total</th>\n",
       "    </tr>\n",
       "  </thead>\n",
       "  <tbody>\n",
       "    <tr>\n",
       "      <th>0</th>\n",
       "      <td>0</td>\n",
       "      <td>House Dem Aide: We Didn’t Even See Comey’s Let...</td>\n",
       "      <td>Darrell Lucus</td>\n",
       "      <td>House Dem Aide: We Didn’t Even See Comey’s Let...</td>\n",
       "      <td>1</td>\n",
       "      <td>House Dem Aide: We Didn’t Even See Comey’s Let...</td>\n",
       "    </tr>\n",
       "    <tr>\n",
       "      <th>1</th>\n",
       "      <td>1</td>\n",
       "      <td>FLYNN: Hillary Clinton, Big Woman on Campus - ...</td>\n",
       "      <td>Daniel J. Flynn</td>\n",
       "      <td>Ever get the feeling your life circles the rou...</td>\n",
       "      <td>0</td>\n",
       "      <td>FLYNN: Hillary Clinton, Big Woman on Campus - ...</td>\n",
       "    </tr>\n",
       "    <tr>\n",
       "      <th>2</th>\n",
       "      <td>2</td>\n",
       "      <td>Why the Truth Might Get You Fired</td>\n",
       "      <td>Consortiumnews.com</td>\n",
       "      <td>Why the Truth Might Get You Fired October 29, ...</td>\n",
       "      <td>1</td>\n",
       "      <td>Why the Truth Might Get You Fired Consortiumne...</td>\n",
       "    </tr>\n",
       "    <tr>\n",
       "      <th>3</th>\n",
       "      <td>3</td>\n",
       "      <td>15 Civilians Killed In Single US Airstrike Hav...</td>\n",
       "      <td>Jessica Purkiss</td>\n",
       "      <td>Videos 15 Civilians Killed In Single US Airstr...</td>\n",
       "      <td>1</td>\n",
       "      <td>15 Civilians Killed In Single US Airstrike Hav...</td>\n",
       "    </tr>\n",
       "    <tr>\n",
       "      <th>4</th>\n",
       "      <td>4</td>\n",
       "      <td>Iranian woman jailed for fictional unpublished...</td>\n",
       "      <td>Howard Portnoy</td>\n",
       "      <td>Print \\nAn Iranian woman has been sentenced to...</td>\n",
       "      <td>1</td>\n",
       "      <td>Iranian woman jailed for fictional unpublished...</td>\n",
       "    </tr>\n",
       "  </tbody>\n",
       "</table>\n",
       "</div>"
      ],
      "text/plain": [
       "   id                                              title              author  \\\n",
       "0   0  House Dem Aide: We Didn’t Even See Comey’s Let...       Darrell Lucus   \n",
       "1   1  FLYNN: Hillary Clinton, Big Woman on Campus - ...     Daniel J. Flynn   \n",
       "2   2                  Why the Truth Might Get You Fired  Consortiumnews.com   \n",
       "3   3  15 Civilians Killed In Single US Airstrike Hav...     Jessica Purkiss   \n",
       "4   4  Iranian woman jailed for fictional unpublished...      Howard Portnoy   \n",
       "\n",
       "                                                text  label  \\\n",
       "0  House Dem Aide: We Didn’t Even See Comey’s Let...      1   \n",
       "1  Ever get the feeling your life circles the rou...      0   \n",
       "2  Why the Truth Might Get You Fired October 29, ...      1   \n",
       "3  Videos 15 Civilians Killed In Single US Airstr...      1   \n",
       "4  Print \\nAn Iranian woman has been sentenced to...      1   \n",
       "\n",
       "                                               total  \n",
       "0  House Dem Aide: We Didn’t Even See Comey’s Let...  \n",
       "1  FLYNN: Hillary Clinton, Big Woman on Campus - ...  \n",
       "2  Why the Truth Might Get You Fired Consortiumne...  \n",
       "3  15 Civilians Killed In Single US Airstrike Hav...  \n",
       "4  Iranian woman jailed for fictional unpublished...  "
      ]
     },
     "execution_count": 11,
     "metadata": {},
     "output_type": "execute_result"
    }
   ],
   "source": [
    "# Have a glance at our training set\n",
    "train.info()\n",
    "train.head()"
   ]
  },
  {
   "cell_type": "code",
   "execution_count": 12,
   "id": "introductory-compilation",
   "metadata": {
    "execution": {
     "iopub.execute_input": "2021-06-19T13:00:22.242949Z",
     "iopub.status.busy": "2021-06-19T13:00:22.242281Z",
     "iopub.status.idle": "2021-06-19T13:00:22.248046Z",
     "shell.execute_reply": "2021-06-19T13:00:22.247639Z",
     "shell.execute_reply.started": "2021-05-22T14:29:41.06803Z"
    },
    "papermill": {
     "duration": 0.039761,
     "end_time": "2021-06-19T13:00:22.248158",
     "exception": false,
     "start_time": "2021-06-19T13:00:22.208397",
     "status": "completed"
    },
    "tags": []
   },
   "outputs": [],
   "source": [
    "# Dividing the training set by using train_test_split\n",
    "X_train, X_test, y_train, y_test = train_test_split(train['total'], train.label, test_size=0.20, random_state=0)"
   ]
  },
  {
   "cell_type": "markdown",
   "id": "compound-tumor",
   "metadata": {
    "papermill": {
     "duration": 0.028952,
     "end_time": "2021-06-19T13:00:22.305904",
     "exception": false,
     "start_time": "2021-06-19T13:00:22.276952",
     "status": "completed"
    },
    "tags": []
   },
   "source": [
    "<p style = \"font-size : 35px; color :#000080 ; font-family : 'Comic Sans MS'; text-align : center; background-color : #808080; border-radius: 5px 5px;\"><strong>Vectorizing our Data</strong></p>\n",
    "\n",
    "<p style = \"font-size : 20px; color : #800000 ; font-family : 'Comic Sans MS';  \"><strong>Word Embeddings or Word vectorization is a methodology in NLP to map words or phrases from vocabulary to a corresponding vector of real numbers which used to find word predictions, word similarities/semantics. The process of converting words into numbers are called Vectorization.</strong></p>\n",
    "\n",
    "![0*qTIL0VGKFsQy6TtA](https://miro.medium.com/max/1536/0*qTIL0VGKFsQy6TtA)"
   ]
  },
  {
   "cell_type": "markdown",
   "id": "resident-berkeley",
   "metadata": {
    "papermill": {
     "duration": 0.029456,
     "end_time": "2021-06-19T13:00:22.364398",
     "exception": false,
     "start_time": "2021-06-19T13:00:22.334942",
     "status": "completed"
    },
    "tags": []
   },
   "source": [
    "<p style = \"font-size : 30px; color : #4e8d7c ; font-family : 'Comic Sans MS';  \"><strong>1. Count Vectorizer </strong></p> \n",
    "\n",
    "<p style = \"font-size : 20px; color : #800000 ; font-family : 'Comic Sans MS';  \"><strong>CountVectorizer is used to convert a collection of text documents to a vector of term/token counts. It also enables the ​pre-processing of text data prior to generating the vector representation. This functionality makes it a highly flexible feature representation module for text.</strong></p>\n",
    "\n",
    "![vectorchart.PNG](https://res.cloudinary.com/practicaldev/image/fetch/s--qveZ_g7d--/c_limit%2Cf_auto%2Cfl_progressive%2Cq_auto%2Cw_880/https://raw.githubusercontent.com/cassieview/intro-nlp-wine-reviews/master/imgs/vectorchart.PNG)"
   ]
  },
  {
   "cell_type": "code",
   "execution_count": 13,
   "id": "reasonable-northern",
   "metadata": {
    "execution": {
     "iopub.execute_input": "2021-06-19T13:00:22.452023Z",
     "iopub.status.busy": "2021-06-19T13:00:22.446751Z",
     "iopub.status.idle": "2021-06-19T13:01:05.891890Z",
     "shell.execute_reply": "2021-06-19T13:01:05.890887Z",
     "shell.execute_reply.started": "2021-05-22T14:29:41.081035Z"
    },
    "papermill": {
     "duration": 43.498504,
     "end_time": "2021-06-19T13:01:05.892037",
     "exception": false,
     "start_time": "2021-06-19T13:00:22.393533",
     "status": "completed"
    },
    "tags": []
   },
   "outputs": [],
   "source": [
    "# Initialize the `count_vectorizer` \n",
    "count_vectorizer = CountVectorizer(ngram_range=(1, 2), stop_words='english') \n",
    "# Fit and transform the training data.\n",
    "count_train = count_vectorizer.fit_transform(X_train)\n",
    "# Transform the test set \n",
    "count_test = count_vectorizer.transform(X_test)"
   ]
  },
  {
   "cell_type": "markdown",
   "id": "sixth-architecture",
   "metadata": {
    "papermill": {
     "duration": 0.02933,
     "end_time": "2021-06-19T13:01:05.951016",
     "exception": false,
     "start_time": "2021-06-19T13:01:05.921686",
     "status": "completed"
    },
    "tags": []
   },
   "source": [
    "<p style = \"font-size : 30px; color : #4e8d7c ; font-family : 'Comic Sans MS';  \"><strong> 2. Tf-IDF Vectorizer </strong></p> \n",
    "\n",
    "<p style = \"font-size : 20px; color : #800000 ; font-family : 'Comic Sans MS';  \"><strong>TF-IDF is an abbreviation for Term Frequency Inverse Document Frequency. This is very common algorithm to transform text into a meaningful representation of numbers which is used to fit machine algorithm for prediction.</strong></p>\n",
    "\n",
    "\n",
    "\n",
    "![1*qQgnyPLDIkUmeZKN2_ZWbQ.png](https://miro.medium.com/max/3604/1*qQgnyPLDIkUmeZKN2_ZWbQ.png)"
   ]
  },
  {
   "cell_type": "code",
   "execution_count": 14,
   "id": "actual-empty",
   "metadata": {
    "execution": {
     "iopub.execute_input": "2021-06-19T13:01:06.047512Z",
     "iopub.status.busy": "2021-06-19T13:01:06.037238Z",
     "iopub.status.idle": "2021-06-19T13:01:51.946892Z",
     "shell.execute_reply": "2021-06-19T13:01:51.946422Z",
     "shell.execute_reply.started": "2021-05-22T14:30:26.734873Z"
    },
    "papermill": {
     "duration": 45.967033,
     "end_time": "2021-06-19T13:01:51.947027",
     "exception": false,
     "start_time": "2021-06-19T13:01:05.979994",
     "status": "completed"
    },
    "tags": []
   },
   "outputs": [],
   "source": [
    "#Initialize the `tfidf_vectorizer` \n",
    "tfidf_vectorizer = TfidfVectorizer(stop_words='english', ngram_range=(1, 2))\n",
    "#Fit and transform the training data \n",
    "tfidf_train = tfidf_vectorizer.fit_transform(X_train)\n",
    "#Transform the test set \n",
    "tfidf_test = tfidf_vectorizer.transform(X_test)"
   ]
  },
  {
   "cell_type": "markdown",
   "id": "surface-melbourne",
   "metadata": {
    "papermill": {
     "duration": 0.030853,
     "end_time": "2021-06-19T13:01:52.010026",
     "exception": false,
     "start_time": "2021-06-19T13:01:51.979173",
     "status": "completed"
    },
    "tags": []
   },
   "source": [
    "<p style = \"font-size : 35px; color :#000080 ; font-family : 'Comic Sans MS'; text-align : center; background-color : #808080; border-radius: 5px 5px;\"><strong> Using Suitable ML models with Count Vectorizer and TF-IDF Vectorizer</strong></p>\n"
   ]
  },
  {
   "cell_type": "markdown",
   "id": "quick-cause",
   "metadata": {
    "papermill": {
     "duration": 0.029746,
     "end_time": "2021-06-19T13:01:52.069290",
     "exception": false,
     "start_time": "2021-06-19T13:01:52.039544",
     "status": "completed"
    },
    "tags": []
   },
   "source": [
    "<p style = \"font-size : 30px; color : #4e8d7c ; font-family : 'Comic Sans MS';  \"><strong> 1. Multinomial Naive Bayes with Count Vectorizer (BagofWords) </strong></p> \n",
    "\n",
    "\n",
    "![bagword_omdrsi.png](http://res.cloudinary.com/dyd911kmh/image/upload/f_auto,q_auto:best/v1507674699/bagword_omdrsi.png)\n"
   ]
  },
  {
   "cell_type": "code",
   "execution_count": 15,
   "id": "academic-incident",
   "metadata": {
    "execution": {
     "iopub.execute_input": "2021-06-19T13:01:52.133281Z",
     "iopub.status.busy": "2021-06-19T13:01:52.132493Z",
     "iopub.status.idle": "2021-06-19T13:01:52.733176Z",
     "shell.execute_reply": "2021-06-19T13:01:52.733772Z",
     "shell.execute_reply.started": "2021-05-22T14:32:59.186792Z"
    },
    "papermill": {
     "duration": 0.635249,
     "end_time": "2021-06-19T13:01:52.733969",
     "exception": false,
     "start_time": "2021-06-19T13:01:52.098720",
     "status": "completed"
    },
    "tags": []
   },
   "outputs": [
    {
     "name": "stdout",
     "output_type": "stream",
     "text": [
      "0.942548076923077\n"
     ]
    }
   ],
   "source": [
    "nb_classifier = MultinomialNB(alpha = 0.1)\n",
    "nb_classifier.fit(count_train, y_train)\n",
    "pred_nb_count = nb_classifier.predict(count_test)\n",
    "acc_nb_count = metrics.accuracy_score(y_test, pred_nb_count)\n",
    "print(acc_nb_count)"
   ]
  },
  {
   "cell_type": "code",
   "execution_count": 16,
   "id": "stretch-compilation",
   "metadata": {
    "execution": {
     "iopub.execute_input": "2021-06-19T13:01:52.799254Z",
     "iopub.status.busy": "2021-06-19T13:01:52.798485Z",
     "iopub.status.idle": "2021-06-19T13:02:05.308716Z",
     "shell.execute_reply": "2021-06-19T13:02:05.307900Z",
     "shell.execute_reply.started": "2021-05-22T14:33:58.574253Z"
    },
    "papermill": {
     "duration": 12.54441,
     "end_time": "2021-06-19T13:02:05.308849",
     "exception": false,
     "start_time": "2021-06-19T13:01:52.764439",
     "status": "completed"
    },
    "tags": []
   },
   "outputs": [
    {
     "name": "stdout",
     "output_type": "stream",
     "text": [
      "Alpha: 0.00 Score: 0.91106\n",
      "Alpha: 0.05 Score: 0.94183\n",
      "Alpha: 0.10 Score: 0.94255\n",
      "Alpha: 0.15 Score: 0.94279\n",
      "Alpha: 0.20 Score: 0.94231\n",
      "Alpha: 0.25 Score: 0.94111\n",
      "Alpha: 0.30 Score: 0.93990\n",
      "Alpha: 0.35 Score: 0.93822\n",
      "Alpha: 0.40 Score: 0.93750\n",
      "Alpha: 0.45 Score: 0.93630\n",
      "Alpha: 0.50 Score: 0.93510\n",
      "Alpha: 0.55 Score: 0.93486\n",
      "Alpha: 0.60 Score: 0.93341\n",
      "Alpha: 0.65 Score: 0.93149\n",
      "Alpha: 0.70 Score: 0.93029\n",
      "Alpha: 0.75 Score: 0.92909\n",
      "Alpha: 0.80 Score: 0.92788\n",
      "Alpha: 0.85 Score: 0.92644\n",
      "Alpha: 0.90 Score: 0.92428\n",
      "Alpha: 0.95 Score: 0.92308\n"
     ]
    }
   ],
   "source": [
    "# tune the hyperparameter alpha for the naive bayes classifier\n",
    "for alpha in np.arange(0,1,.05):\n",
    "    nb_classifier_tune = MultinomialNB(alpha=alpha)\n",
    "    nb_classifier_tune.fit(count_train, y_train)\n",
    "    pred_tune = nb_classifier_tune.predict(count_test)\n",
    "    score = metrics.accuracy_score(y_test, pred_tune)\n",
    "    print(\"Alpha: {:.2f} Score: {:.5f}\".format(alpha, score))"
   ]
  },
  {
   "cell_type": "markdown",
   "id": "major-currency",
   "metadata": {
    "papermill": {
     "duration": 0.034858,
     "end_time": "2021-06-19T13:02:05.378408",
     "exception": false,
     "start_time": "2021-06-19T13:02:05.343550",
     "status": "completed"
    },
    "tags": []
   },
   "source": [
    "<p style = \"font-size : 20px; color : #800000 ; font-family : 'Comic Sans MS';  \"><strong>The best score is obtained for alpha = 0.15, and is equal to 0.94279.</strong></p>\n"
   ]
  },
  {
   "cell_type": "code",
   "execution_count": 17,
   "id": "contrary-serbia",
   "metadata": {
    "execution": {
     "iopub.execute_input": "2021-06-19T13:02:05.458332Z",
     "iopub.status.busy": "2021-06-19T13:02:05.457535Z",
     "iopub.status.idle": "2021-06-19T13:02:06.317167Z",
     "shell.execute_reply": "2021-06-19T13:02:06.316315Z",
     "shell.execute_reply.started": "2021-05-22T14:34:44.149124Z"
    },
    "papermill": {
     "duration": 0.904514,
     "end_time": "2021-06-19T13:02:06.317294",
     "exception": false,
     "start_time": "2021-06-19T13:02:05.412780",
     "status": "completed"
    },
    "tags": []
   },
   "outputs": [
    {
     "data": {
      "image/png": "[encoded data removed]",
      "text/plain": [
       "<Figure size 432x288 with 2 Axes>"
      ]
     },
     "metadata": {
      "needs_background": "light"
     },
     "output_type": "display_data"
    }
   ],
   "source": [
    "# Let's re-run our fine-tuned model and plot the confusion matrix\n",
    "nb_classifier = MultinomialNB(alpha = 0.15)\n",
    "nb_classifier.fit(count_train, y_train)\n",
    "pred_nb_count = nb_classifier.predict(count_test)\n",
    "cm = metrics.confusion_matrix(y_test, pred_nb_count, labels=[0,1])\n",
    "\n",
    "# Creating a function that outputs a confusion matrix\n",
    "def plot_confusion_matrix(cm, classes,\n",
    "                          normalize=False,\n",
    "                          title='Confusion matrix',\n",
    "                          cmap=plt.cm.Blues):\n",
    "    \n",
    "    plt.imshow(cm, interpolation='nearest', cmap=cmap)\n",
    "    plt.title(title)\n",
    "    plt.colorbar()\n",
    "    tick_marks = np.arange(len(classes))\n",
    "    plt.xticks(tick_marks, classes, rotation=45)\n",
    "    plt.yticks(tick_marks, classes)\n",
    "    thresh = cm.max() / 2.\n",
    "    for i, j in itertools.product(range(cm.shape[0]), range(cm.shape[1])):\n",
    "        plt.text(j, i, cm[i, j],\n",
    "                 horizontalalignment=\"center\",\n",
    "                 color=\"white\" if cm[i, j] > thresh else \"black\")\n",
    "\n",
    "    plt.tight_layout()\n",
    "    plt.ylabel('True label')\n",
    "    plt.xlabel('Predicted label')\n",
    "    \n",
    "    \n",
    "plot_confusion_matrix(cm, classes=['TRUE','FAKE'], title ='Confusion matrix for a MultinomialNB with Count Vectorizer')"
   ]
  },
  {
   "cell_type": "markdown",
   "id": "cheap-liberal",
   "metadata": {
    "papermill": {
     "duration": 0.035568,
     "end_time": "2021-06-19T13:02:06.388927",
     "exception": false,
     "start_time": "2021-06-19T13:02:06.353359",
     "status": "completed"
    },
    "tags": []
   },
   "source": [
    "<p style = \"font-size : 20px; color : #800000 ; font-family : 'Comic Sans MS';  \"><strong> We see that although our model has a general accuracy of 94.3 %, which is good, but it does not really score well in view of number of false negative. 223 fake news are classified as true news with this model, which is not pleasing to see. So we will try to use the Tf-IDF vectorizer on this same model to see if it performs better.</strong></p>\n"
   ]
  },
  {
   "cell_type": "markdown",
   "id": "civilian-heading",
   "metadata": {
    "papermill": {
     "duration": 0.036821,
     "end_time": "2021-06-19T13:02:06.463106",
     "exception": false,
     "start_time": "2021-06-19T13:02:06.426285",
     "status": "completed"
    },
    "tags": []
   },
   "source": [
    "<p style = \"font-size : 30px; color : #4e8d7c ; font-family : 'Comic Sans MS';  \"><strong> 2. Multinomial Naive Bayes with TF-IDF Vectorizer </strong></p> \n",
    " "
   ]
  },
  {
   "cell_type": "code",
   "execution_count": 18,
   "id": "leading-politics",
   "metadata": {
    "execution": {
     "iopub.execute_input": "2021-06-19T13:02:06.544741Z",
     "iopub.status.busy": "2021-06-19T13:02:06.543661Z",
     "iopub.status.idle": "2021-06-19T13:02:07.157614Z",
     "shell.execute_reply": "2021-06-19T13:02:07.157171Z",
     "shell.execute_reply.started": "2021-05-22T14:36:53.020706Z"
    },
    "papermill": {
     "duration": 0.657789,
     "end_time": "2021-06-19T13:02:07.157768",
     "exception": false,
     "start_time": "2021-06-19T13:02:06.499979",
     "status": "completed"
    },
    "tags": []
   },
   "outputs": [
    {
     "name": "stdout",
     "output_type": "stream",
     "text": [
      "0.926923076923077\n"
     ]
    }
   ],
   "source": [
    "nb_classifier = MultinomialNB(alpha = 0.1)\n",
    "nb_classifier.fit(tfidf_train, y_train)\n",
    "pred_nb_tfidf = nb_classifier.predict(tfidf_test)\n",
    "acc_nb_tfidf = metrics.accuracy_score(y_test, pred_nb_tfidf)\n",
    "print(acc_nb_tfidf)"
   ]
  },
  {
   "cell_type": "code",
   "execution_count": 19,
   "id": "reflected-documentation",
   "metadata": {
    "execution": {
     "iopub.execute_input": "2021-06-19T13:02:07.239137Z",
     "iopub.status.busy": "2021-06-19T13:02:07.238191Z",
     "iopub.status.idle": "2021-06-19T13:02:13.483620Z",
     "shell.execute_reply": "2021-06-19T13:02:13.483987Z",
     "shell.execute_reply.started": "2021-05-22T14:37:05.380315Z"
    },
    "papermill": {
     "duration": 6.290097,
     "end_time": "2021-06-19T13:02:13.484139",
     "exception": false,
     "start_time": "2021-06-19T13:02:07.194042",
     "status": "completed"
    },
    "tags": []
   },
   "outputs": [
    {
     "name": "stdout",
     "output_type": "stream",
     "text": [
      "Alpha: 0.00  Score: 0.90649\n",
      "Alpha: 0.01  Score: 0.94375\n",
      "Alpha: 0.02  Score: 0.94375\n",
      "Alpha: 0.03  Score: 0.94159\n",
      "Alpha: 0.04  Score: 0.93966\n",
      "Alpha: 0.05  Score: 0.93822\n",
      "Alpha: 0.06  Score: 0.93462\n",
      "Alpha: 0.07  Score: 0.93317\n",
      "Alpha: 0.08  Score: 0.93005\n",
      "Alpha: 0.09  Score: 0.92861\n"
     ]
    }
   ],
   "source": [
    "# tune the hyperparameter alpha for the naive bayes classifier\n",
    "for alpha in np.arange(0,0.1,.01):\n",
    "    nb_classifier_tune = MultinomialNB(alpha=alpha)\n",
    "    nb_classifier_tune.fit(tfidf_train, y_train)\n",
    "    pred_tune = nb_classifier_tune.predict(tfidf_test)\n",
    "    score = metrics.accuracy_score(y_test, pred_tune)\n",
    "    print(\"Alpha: {:.2f}  Score: {:.5f}\".format(alpha, score))"
   ]
  },
  {
   "cell_type": "code",
   "execution_count": 20,
   "id": "widespread-hotel",
   "metadata": {
    "execution": {
     "iopub.execute_input": "2021-06-19T13:02:13.568910Z",
     "iopub.status.busy": "2021-06-19T13:02:13.568039Z",
     "iopub.status.idle": "2021-06-19T13:02:14.389570Z",
     "shell.execute_reply": "2021-06-19T13:02:14.389993Z",
     "shell.execute_reply.started": "2021-05-22T14:37:21.658545Z"
    },
    "papermill": {
     "duration": 0.867169,
     "end_time": "2021-06-19T13:02:14.390148",
     "exception": false,
     "start_time": "2021-06-19T13:02:13.522979",
     "status": "completed"
    },
    "tags": []
   },
   "outputs": [
    {
     "data": {
      "image/png": "[encoded data removed]",
      "text/plain": [
       "<Figure size 432x288 with 2 Axes>"
      ]
     },
     "metadata": {
      "needs_background": "light"
     },
     "output_type": "display_data"
    }
   ],
   "source": [
    "# Let's run the optimized model with best value of hyperparameter and check the confusion matrix\n",
    "nb_classifier = MultinomialNB(alpha = 0.01)\n",
    "nb_classifier.fit(tfidf_train, y_train)\n",
    "pred_nb_tfidf = nb_classifier.predict(tfidf_test)\n",
    "cm2 = metrics.confusion_matrix(y_test, pred_nb_tfidf, labels=[0,1])\n",
    "plot_confusion_matrix(cm2, classes=['TRUE','FAKE'], title ='Confusion matrix for a MultinomialNB with Tf-IDF')"
   ]
  },
  {
   "cell_type": "markdown",
   "id": "speaking-background",
   "metadata": {
    "papermill": {
     "duration": 0.039179,
     "end_time": "2021-06-19T13:02:14.470308",
     "exception": false,
     "start_time": "2021-06-19T13:02:14.431129",
     "status": "completed"
    },
    "tags": []
   },
   "source": [
    "<p style = \"font-size : 20px; color : #800000 ; font-family : 'Comic Sans MS';  \"><strong> This confusion matrix above confirms that this new model is slightly better (and its accuracy score is 94.4 %). However, too many fake news are still labeled as true news. Let's try with another model called PassiveAgressive Classifier which is special for text classification purposes.</strong></p>\n"
   ]
  },
  {
   "cell_type": "markdown",
   "id": "decimal-quebec",
   "metadata": {
    "papermill": {
     "duration": 0.039789,
     "end_time": "2021-06-19T13:02:14.549776",
     "exception": false,
     "start_time": "2021-06-19T13:02:14.509987",
     "status": "completed"
    },
    "tags": []
   },
   "source": [
    "<p style = \"font-size : 30px; color : #4e8d7c ; font-family : 'Comic Sans MS';  \"><strong>  3. Passive Agressive Classifier With Count Vectorizer </strong></p> \n",
    "\n"
   ]
  },
  {
   "cell_type": "code",
   "execution_count": 21,
   "id": "outside-wonder",
   "metadata": {
    "execution": {
     "iopub.execute_input": "2021-06-19T13:02:14.634223Z",
     "iopub.status.busy": "2021-06-19T13:02:14.633455Z",
     "iopub.status.idle": "2021-06-19T13:02:16.468073Z",
     "shell.execute_reply": "2021-06-19T13:02:16.468489Z",
     "shell.execute_reply.started": "2021-05-22T14:38:17.827825Z"
    },
    "papermill": {
     "duration": 1.879422,
     "end_time": "2021-06-19T13:02:16.468675",
     "exception": false,
     "start_time": "2021-06-19T13:02:14.589253",
     "status": "completed"
    },
    "tags": []
   },
   "outputs": [
    {
     "name": "stdout",
     "output_type": "stream",
     "text": [
      "0.9673076923076923\n"
     ]
    },
    {
     "data": {
      "image/png": "[encoded data removed]",
      "text/plain": [
       "<Figure size 432x288 with 2 Axes>"
      ]
     },
     "metadata": {
      "needs_background": "light"
     },
     "output_type": "display_data"
    }
   ],
   "source": [
    "from sklearn.linear_model import PassiveAggressiveClassifier\n",
    "linear_classifier = PassiveAggressiveClassifier(max_iter=10)\n",
    "linear_classifier.fit(count_train, y_train)\n",
    "pred_linear_count = linear_classifier.predict(count_test)\n",
    "acc_linear_count = metrics.accuracy_score(y_test, pred_linear_count)\n",
    "print(acc_linear_count)\n",
    "cm6 = metrics.confusion_matrix(y_test, pred_linear_count, labels=[0,1])\n",
    "plot_confusion_matrix(cm6, classes=['TRUE','FAKE'], title ='Confusion matrix for a PA Classifier with Count Vectorizer')"
   ]
  },
  {
   "cell_type": "markdown",
   "id": "logical-argentina",
   "metadata": {
    "papermill": {
     "duration": 0.040616,
     "end_time": "2021-06-19T13:02:16.551178",
     "exception": false,
     "start_time": "2021-06-19T13:02:16.510562",
     "status": "completed"
    },
    "tags": []
   },
   "source": [
    "<p style = \"font-size : 20px; color : #800000 ; font-family : 'Comic Sans MS';  \"><strong>We get much better results than with the MultinomialNB model, both in terms of accuracy and in terms of false negative. Only 60 fake news were labeled as true news this time. Let's try with the Tf-IDF method. </strong></p>\n",
    "\n"
   ]
  },
  {
   "cell_type": "markdown",
   "id": "subtle-handy",
   "metadata": {
    "papermill": {
     "duration": 0.040586,
     "end_time": "2021-06-19T13:02:16.632058",
     "exception": false,
     "start_time": "2021-06-19T13:02:16.591472",
     "status": "completed"
    },
    "tags": []
   },
   "source": [
    "<p style = \"font-size : 30px; color : #4e8d7c ; font-family : 'Comic Sans MS';  \"><strong>  4. Passive Agressive Classifier With TF-IDF Vectorizer </strong></p> \n",
    "\n"
   ]
  },
  {
   "cell_type": "code",
   "execution_count": 22,
   "id": "bacterial-kelly",
   "metadata": {
    "execution": {
     "iopub.execute_input": "2021-06-19T13:02:16.723713Z",
     "iopub.status.busy": "2021-06-19T13:02:16.722701Z",
     "iopub.status.idle": "2021-06-19T13:02:18.075546Z",
     "shell.execute_reply": "2021-06-19T13:02:18.075964Z",
     "shell.execute_reply.started": "2021-05-22T14:39:12.832195Z"
    },
    "papermill": {
     "duration": 1.403643,
     "end_time": "2021-06-19T13:02:18.076119",
     "exception": false,
     "start_time": "2021-06-19T13:02:16.672476",
     "status": "completed"
    },
    "tags": []
   },
   "outputs": [
    {
     "name": "stdout",
     "output_type": "stream",
     "text": [
      "0.9805288461538462\n"
     ]
    },
    {
     "data": {
      "image/png": "[encoded data removed]",
      "text/plain": [
       "<Figure size 432x288 with 2 Axes>"
      ]
     },
     "metadata": {
      "needs_background": "light"
     },
     "output_type": "display_data"
    }
   ],
   "source": [
    "linear_classifier = PassiveAggressiveClassifier(max_iter=10)\n",
    "linear_classifier.fit(tfidf_train, y_train)\n",
    "pred_linear_tfidf = linear_classifier.predict(tfidf_test)\n",
    "acc_linear_tfidf = metrics.accuracy_score(y_test, pred_linear_tfidf)\n",
    "print(acc_linear_tfidf)\n",
    "cm5 = metrics.confusion_matrix(y_test, pred_linear_tfidf, labels=[0,1])\n",
    "plot_confusion_matrix(cm5, classes=['TRUE','FAKE'], title ='Confusion matrix for a PA Classifier with Tf-IDF')"
   ]
  },
  {
   "cell_type": "markdown",
   "id": "outside-vegetation",
   "metadata": {
    "papermill": {
     "duration": 0.043861,
     "end_time": "2021-06-19T13:02:18.162473",
     "exception": false,
     "start_time": "2021-06-19T13:02:18.118612",
     "status": "completed"
    },
    "tags": []
   },
   "source": [
    "<p style = \"font-size : 20px; color : #800000 ; font-family : 'Comic Sans MS';  \"><strong>Although we observe more false negative, the overall accuracy is much better, hence so far this is our best model. Let's try with Logistic Regression now!</strong></p>\n",
    "\n"
   ]
  },
  {
   "cell_type": "markdown",
   "id": "collect-blank",
   "metadata": {
    "papermill": {
     "duration": 0.04105,
     "end_time": "2021-06-19T13:02:18.257163",
     "exception": false,
     "start_time": "2021-06-19T13:02:18.216113",
     "status": "completed"
    },
    "tags": []
   },
   "source": [
    "<p style = \"font-size : 30px; color : #4e8d7c ; font-family : 'Comic Sans MS';  \"><strong>  5. Logistic Regression with TF-IDF Vectorizer </strong></p> \n",
    "\n"
   ]
  },
  {
   "cell_type": "code",
   "execution_count": 23,
   "id": "domestic-exemption",
   "metadata": {
    "execution": {
     "iopub.execute_input": "2021-06-19T13:02:18.345420Z",
     "iopub.status.busy": "2021-06-19T13:02:18.344501Z",
     "iopub.status.idle": "2021-06-19T13:03:58.870913Z",
     "shell.execute_reply": "2021-06-19T13:03:58.870220Z",
     "shell.execute_reply.started": "2021-05-22T14:40:16.761355Z"
    },
    "papermill": {
     "duration": 100.572968,
     "end_time": "2021-06-19T13:03:58.871099",
     "exception": false,
     "start_time": "2021-06-19T13:02:18.298131",
     "status": "completed"
    },
    "tags": []
   },
   "outputs": [
    {
     "name": "stdout",
     "output_type": "stream",
     "text": [
      "0.9800480769230769\n"
     ]
    },
    {
     "data": {
      "image/png": "[encoded data removed]",
      "text/plain": [
       "<Figure size 432x288 with 2 Axes>"
      ]
     },
     "metadata": {
      "needs_background": "light"
     },
     "output_type": "display_data"
    }
   ],
   "source": [
    "logreg = LogisticRegression(C=1e5)\n",
    "logreg.fit(tfidf_train, y_train)\n",
    "pred_logreg_tfidf = logreg.predict(tfidf_test)\n",
    "pred_logreg_tfidf_proba = logreg.predict_proba(tfidf_test)[:,1]\n",
    "acc_logreg_tfidf = metrics.accuracy_score(y_test,pred_logreg_tfidf)\n",
    "print(acc_logreg_tfidf)\n",
    "cm4 = metrics.confusion_matrix(y_test, pred_logreg_tfidf, labels=[0,1])\n",
    "plot_confusion_matrix(cm4, classes=['TRUE','FAKE'], title ='Confusion matrix for a Logistic Regression with Tf-IDF')"
   ]
  },
  {
   "cell_type": "markdown",
   "id": "trying-twenty",
   "metadata": {
    "papermill": {
     "duration": 0.042558,
     "end_time": "2021-06-19T13:03:58.956545",
     "exception": false,
     "start_time": "2021-06-19T13:03:58.913987",
     "status": "completed"
    },
    "tags": []
   },
   "source": [
    "<p style = \"font-size : 20px; color : #800000 ; font-family : 'Comic Sans MS';  \"><strong>This model has a very high accuracy score, and only 58 records were misclassified. So far, Logistic Regression played it best ! Let's see the same with CountVectorizer ie. Bag of Words concept.</strong></p>\n",
    "\n"
   ]
  },
  {
   "cell_type": "markdown",
   "id": "difficult-sociology",
   "metadata": {
    "papermill": {
     "duration": 0.042012,
     "end_time": "2021-06-19T13:03:59.041068",
     "exception": false,
     "start_time": "2021-06-19T13:03:58.999056",
     "status": "completed"
    },
    "tags": []
   },
   "source": [
    "<p style = \"font-size : 30px; color : #4e8d7c ; font-family : 'Comic Sans MS';  \"><strong>   6. Logistic Regression with CountVectorizer </strong></p> \n"
   ]
  },
  {
   "cell_type": "code",
   "execution_count": 24,
   "id": "thorough-importance",
   "metadata": {
    "execution": {
     "iopub.execute_input": "2021-06-19T13:03:59.142119Z",
     "iopub.status.busy": "2021-06-19T13:03:59.141010Z",
     "iopub.status.idle": "2021-06-19T13:04:54.677197Z",
     "shell.execute_reply": "2021-06-19T13:04:54.676555Z",
     "shell.execute_reply.started": "2021-05-22T14:42:07.132509Z"
    },
    "papermill": {
     "duration": 55.593662,
     "end_time": "2021-06-19T13:04:54.677355",
     "exception": false,
     "start_time": "2021-06-19T13:03:59.083693",
     "status": "completed"
    },
    "tags": []
   },
   "outputs": [
    {
     "name": "stdout",
     "output_type": "stream",
     "text": [
      "0.9776442307692308\n"
     ]
    },
    {
     "data": {
      "image/png": "[encoded data removed]",
      "text/plain": [
       "<Figure size 432x288 with 2 Axes>"
      ]
     },
     "metadata": {
      "needs_background": "light"
     },
     "output_type": "display_data"
    }
   ],
   "source": [
    "logreg = LogisticRegression(C=1e5)\n",
    "logreg.fit(count_train, y_train)\n",
    "pred_logreg_count = logreg.predict(count_test)\n",
    "acc_logreg_count = metrics.accuracy_score(y_test,pred_logreg_count)\n",
    "print(acc_logreg_count)\n",
    "cm3 = metrics.confusion_matrix(y_test, pred_logreg_count, labels=[0,1])\n",
    "plot_confusion_matrix(cm3, classes=['TRUE','FAKE'], title ='Confusion matrix for a Logistic Regression with Count Vectorizer')"
   ]
  },
  {
   "cell_type": "markdown",
   "id": "suitable-democracy",
   "metadata": {
    "papermill": {
     "duration": 0.042966,
     "end_time": "2021-06-19T13:04:54.764263",
     "exception": false,
     "start_time": "2021-06-19T13:04:54.721297",
     "status": "completed"
    },
    "tags": []
   },
   "source": [
    "<p style = \"font-size : 25px; color : #8cff32 ; font-family : 'Comic Sans MS';  \"><strong>It's THE BEST MODEL YAY ! This is our favorite model so far. Indeed, even though the accuracy score is a bit lower, we have less fake news labeled as true news ie. only 44. Therefore, I choose this model because it seems to maximize the accuracy while minimizing the false negative rate!</strong></p>\n",
    "\n"
   ]
  }
 ],
 "metadata": {
  "kernelspec": {
   "display_name": "Python 3",
   "language": "python",
   "name": "python3"
  },
  "language_info": {
   "codemirror_mode": {
    "name": "ipython",
    "version": 3
   },
   "file_extension": ".py",
   "mimetype": "text/x-python",
   "name": "python",
   "nbconvert_exporter": "python",
   "pygments_lexer": "ipython3",
   "version": "3.7.10"
  },
  "papermill": {
   "default_parameters": {},
   "duration": 285.693648,
   "end_time": "2021-06-19T13:04:56.419526",
   "environment_variables": {},
   "exception": null,
   "input_path": "__notebook__.ipynb",
   "output_path": "__notebook__.ipynb",
   "parameters": {},
   "start_time": "2021-06-19T13:00:10.725878",
   "version": "2.3.3"
  }
 },
 "nbformat": 4,
 "nbformat_minor": 5
}
